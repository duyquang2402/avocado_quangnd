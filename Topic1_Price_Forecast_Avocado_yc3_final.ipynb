{
 "cells": [
  {
   "cell_type": "markdown",
   "id": "c05ffc7b",
   "metadata": {},
   "source": [
    "# Topic 1: Price Forecast - Avocado"
   ]
  },
  {
   "cell_type": "markdown",
   "id": "03043190",
   "metadata": {},
   "source": [
    "### Yêu cầu 3: Dự Đoán Giá Conventional Avocado tại California\n",
    "\n",
    "Sau khi đã thực hiện mô hình regression dự đoán giá bơ cho cả nước Mỹ và xem xu hướng giá bơ organic tại California, chúng ta đã có những hiểu biết nhất định về bộ dữ liệu. Việc tiếp theo chúng ta sẽ làm là xem xét cụ thể loại bơ conventional tại California để xem mô hình regression nào phù hợp để đoán giá \"cục bộ\" có khác gì khi chúng ta làm trên toàn nước Mỹ ko, cũng như tìm hiểu xem tiềm năng phát triển kinh doanh của loại bơ conventional tại California như thế nào."
   ]
  },
  {
   "cell_type": "markdown",
   "id": "90d00570",
   "metadata": {},
   "source": [
    "## Triển Khai Dự Án"
   ]
  },
  {
   "cell_type": "code",
   "execution_count": 1,
   "id": "0c84d9de",
   "metadata": {},
   "outputs": [
    {
     "name": "stderr",
     "output_type": "stream",
     "text": [
      "Importing plotly failed. Interactive plots will not work.\n"
     ]
    }
   ],
   "source": [
    "import numpy as np\n",
    "import pandas as pd\n",
    "import pandas_profiling as pp\n",
    "import matplotlib.pyplot as plt\n",
    "import seaborn as sns\n",
    "%matplotlib inline\n",
    "from math import sqrt\n",
    "\n",
    "from sklearn.pipeline import  Pipeline\n",
    "from sklearn.preprocessing import StandardScaler\n",
    "from sklearn.model_selection import train_test_split, cross_val_score\n",
    "from sklearn.preprocessing import LabelEncoder\n",
    "\n",
    "from sklearn.linear_model import LinearRegression\n",
    "from sklearn.ensemble import RandomForestRegressor\n",
    "from xgboost import XGBRegressor\n",
    "\n",
    "from sklearn.metrics import r2_score\n",
    "from sklearn.metrics import mean_squared_error, mean_absolute_error\n",
    "\n",
    "from statsmodels.tsa.seasonal import seasonal_decompose\n",
    "from pmdarima import auto_arima\n",
    "\n",
    "from fbprophet import Prophet\n",
    "from fbprophet.plot import add_changepoints_to_plot"
   ]
  },
  {
   "cell_type": "code",
   "execution_count": 2,
   "id": "0b799369",
   "metadata": {},
   "outputs": [],
   "source": [
    "import warnings\n",
    "warnings.filterwarnings(\"ignore\")\n",
    "\n",
    "pd.options.display.float_format = '{:.2f}'.format"
   ]
  },
  {
   "cell_type": "code",
   "execution_count": 3,
   "id": "d1b58d5a",
   "metadata": {},
   "outputs": [],
   "source": [
    "data = pd.read_csv('avocado.csv', index_col=0)"
   ]
  },
  {
   "cell_type": "code",
   "execution_count": 4,
   "id": "2f52ffc6",
   "metadata": {},
   "outputs": [
    {
     "name": "stdout",
     "output_type": "stream",
     "text": [
      "<class 'pandas.core.frame.DataFrame'>\n",
      "Int64Index: 18249 entries, 0 to 11\n",
      "Data columns (total 13 columns):\n",
      " #   Column        Non-Null Count  Dtype  \n",
      "---  ------        --------------  -----  \n",
      " 0   Date          18249 non-null  object \n",
      " 1   AveragePrice  18249 non-null  float64\n",
      " 2   Total Volume  18249 non-null  float64\n",
      " 3   4046          18249 non-null  float64\n",
      " 4   4225          18249 non-null  float64\n",
      " 5   4770          18249 non-null  float64\n",
      " 6   Total Bags    18249 non-null  float64\n",
      " 7   Small Bags    18249 non-null  float64\n",
      " 8   Large Bags    18249 non-null  float64\n",
      " 9   XLarge Bags   18249 non-null  float64\n",
      " 10  type          18249 non-null  object \n",
      " 11  year          18249 non-null  int64  \n",
      " 12  region        18249 non-null  object \n",
      "dtypes: float64(9), int64(1), object(3)\n",
      "memory usage: 1.9+ MB\n"
     ]
    }
   ],
   "source": [
    "data.info()"
   ]
  },
  {
   "cell_type": "code",
   "execution_count": 5,
   "id": "d2e0adb7",
   "metadata": {},
   "outputs": [
    {
     "data": {
      "text/html": [
       "<div>\n",
       "<style scoped>\n",
       "    .dataframe tbody tr th:only-of-type {\n",
       "        vertical-align: middle;\n",
       "    }\n",
       "\n",
       "    .dataframe tbody tr th {\n",
       "        vertical-align: top;\n",
       "    }\n",
       "\n",
       "    .dataframe thead th {\n",
       "        text-align: right;\n",
       "    }\n",
       "</style>\n",
       "<table border=\"1\" class=\"dataframe\">\n",
       "  <thead>\n",
       "    <tr style=\"text-align: right;\">\n",
       "      <th></th>\n",
       "      <th>Date</th>\n",
       "      <th>AveragePrice</th>\n",
       "      <th>Total Volume</th>\n",
       "      <th>4046</th>\n",
       "      <th>4225</th>\n",
       "      <th>4770</th>\n",
       "      <th>Total Bags</th>\n",
       "      <th>Small Bags</th>\n",
       "      <th>Large Bags</th>\n",
       "      <th>XLarge Bags</th>\n",
       "      <th>type</th>\n",
       "      <th>year</th>\n",
       "      <th>region</th>\n",
       "    </tr>\n",
       "  </thead>\n",
       "  <tbody>\n",
       "    <tr>\n",
       "      <th>0</th>\n",
       "      <td>2015-12-27</td>\n",
       "      <td>1.33</td>\n",
       "      <td>64236.62</td>\n",
       "      <td>1036.74</td>\n",
       "      <td>54454.85</td>\n",
       "      <td>48.16</td>\n",
       "      <td>8696.87</td>\n",
       "      <td>8603.62</td>\n",
       "      <td>93.25</td>\n",
       "      <td>0.00</td>\n",
       "      <td>conventional</td>\n",
       "      <td>2015</td>\n",
       "      <td>Albany</td>\n",
       "    </tr>\n",
       "    <tr>\n",
       "      <th>1</th>\n",
       "      <td>2015-12-20</td>\n",
       "      <td>1.35</td>\n",
       "      <td>54876.98</td>\n",
       "      <td>674.28</td>\n",
       "      <td>44638.81</td>\n",
       "      <td>58.33</td>\n",
       "      <td>9505.56</td>\n",
       "      <td>9408.07</td>\n",
       "      <td>97.49</td>\n",
       "      <td>0.00</td>\n",
       "      <td>conventional</td>\n",
       "      <td>2015</td>\n",
       "      <td>Albany</td>\n",
       "    </tr>\n",
       "    <tr>\n",
       "      <th>2</th>\n",
       "      <td>2015-12-13</td>\n",
       "      <td>0.93</td>\n",
       "      <td>118220.22</td>\n",
       "      <td>794.70</td>\n",
       "      <td>109149.67</td>\n",
       "      <td>130.50</td>\n",
       "      <td>8145.35</td>\n",
       "      <td>8042.21</td>\n",
       "      <td>103.14</td>\n",
       "      <td>0.00</td>\n",
       "      <td>conventional</td>\n",
       "      <td>2015</td>\n",
       "      <td>Albany</td>\n",
       "    </tr>\n",
       "    <tr>\n",
       "      <th>3</th>\n",
       "      <td>2015-12-06</td>\n",
       "      <td>1.08</td>\n",
       "      <td>78992.15</td>\n",
       "      <td>1132.00</td>\n",
       "      <td>71976.41</td>\n",
       "      <td>72.58</td>\n",
       "      <td>5811.16</td>\n",
       "      <td>5677.40</td>\n",
       "      <td>133.76</td>\n",
       "      <td>0.00</td>\n",
       "      <td>conventional</td>\n",
       "      <td>2015</td>\n",
       "      <td>Albany</td>\n",
       "    </tr>\n",
       "    <tr>\n",
       "      <th>4</th>\n",
       "      <td>2015-11-29</td>\n",
       "      <td>1.28</td>\n",
       "      <td>51039.60</td>\n",
       "      <td>941.48</td>\n",
       "      <td>43838.39</td>\n",
       "      <td>75.78</td>\n",
       "      <td>6183.95</td>\n",
       "      <td>5986.26</td>\n",
       "      <td>197.69</td>\n",
       "      <td>0.00</td>\n",
       "      <td>conventional</td>\n",
       "      <td>2015</td>\n",
       "      <td>Albany</td>\n",
       "    </tr>\n",
       "  </tbody>\n",
       "</table>\n",
       "</div>"
      ],
      "text/plain": [
       "         Date  AveragePrice  Total Volume    4046      4225   4770  \\\n",
       "0  2015-12-27          1.33      64236.62 1036.74  54454.85  48.16   \n",
       "1  2015-12-20          1.35      54876.98  674.28  44638.81  58.33   \n",
       "2  2015-12-13          0.93     118220.22  794.70 109149.67 130.50   \n",
       "3  2015-12-06          1.08      78992.15 1132.00  71976.41  72.58   \n",
       "4  2015-11-29          1.28      51039.60  941.48  43838.39  75.78   \n",
       "\n",
       "   Total Bags  Small Bags  Large Bags  XLarge Bags          type  year  region  \n",
       "0     8696.87     8603.62       93.25         0.00  conventional  2015  Albany  \n",
       "1     9505.56     9408.07       97.49         0.00  conventional  2015  Albany  \n",
       "2     8145.35     8042.21      103.14         0.00  conventional  2015  Albany  \n",
       "3     5811.16     5677.40      133.76         0.00  conventional  2015  Albany  \n",
       "4     6183.95     5986.26      197.69         0.00  conventional  2015  Albany  "
      ]
     },
     "execution_count": 5,
     "metadata": {},
     "output_type": "execute_result"
    }
   ],
   "source": [
    "data.head()"
   ]
  },
  {
   "cell_type": "markdown",
   "id": "94d82c55",
   "metadata": {},
   "source": [
    "## Regression: Bài Toán Dự Đoán Giá Conventional Avocado tại California\n"
   ]
  },
  {
   "cell_type": "markdown",
   "id": "15dcf0a3",
   "metadata": {},
   "source": [
    "###  Data Preparation / Prepare"
   ]
  },
  {
   "cell_type": "markdown",
   "id": "b0e56c01",
   "metadata": {},
   "source": [
    "#### các bước EDA đã thực hiện bài trước không cần làm lại"
   ]
  },
  {
   "cell_type": "code",
   "execution_count": 6,
   "id": "4d8020a6",
   "metadata": {},
   "outputs": [],
   "source": [
    "df = data.copy()"
   ]
  },
  {
   "cell_type": "code",
   "execution_count": 7,
   "id": "af4ea1dc",
   "metadata": {},
   "outputs": [
    {
     "data": {
      "text/html": [
       "<div>\n",
       "<style scoped>\n",
       "    .dataframe tbody tr th:only-of-type {\n",
       "        vertical-align: middle;\n",
       "    }\n",
       "\n",
       "    .dataframe tbody tr th {\n",
       "        vertical-align: top;\n",
       "    }\n",
       "\n",
       "    .dataframe thead th {\n",
       "        text-align: right;\n",
       "    }\n",
       "</style>\n",
       "<table border=\"1\" class=\"dataframe\">\n",
       "  <thead>\n",
       "    <tr style=\"text-align: right;\">\n",
       "      <th></th>\n",
       "      <th>Date</th>\n",
       "      <th>AveragePrice</th>\n",
       "      <th>Total Volume</th>\n",
       "      <th>4046</th>\n",
       "      <th>4225</th>\n",
       "      <th>4770</th>\n",
       "      <th>Total Bags</th>\n",
       "      <th>Small Bags</th>\n",
       "      <th>Large Bags</th>\n",
       "      <th>XLarge Bags</th>\n",
       "      <th>type</th>\n",
       "      <th>year</th>\n",
       "      <th>region</th>\n",
       "    </tr>\n",
       "  </thead>\n",
       "  <tbody>\n",
       "    <tr>\n",
       "      <th>0</th>\n",
       "      <td>2015-12-27</td>\n",
       "      <td>0.90</td>\n",
       "      <td>5040365.47</td>\n",
       "      <td>1833946.59</td>\n",
       "      <td>1760956.02</td>\n",
       "      <td>232755.85</td>\n",
       "      <td>1212707.01</td>\n",
       "      <td>1090140.07</td>\n",
       "      <td>110737.35</td>\n",
       "      <td>11829.59</td>\n",
       "      <td>conventional</td>\n",
       "      <td>2015</td>\n",
       "      <td>California</td>\n",
       "    </tr>\n",
       "    <tr>\n",
       "      <th>1</th>\n",
       "      <td>2015-12-20</td>\n",
       "      <td>0.94</td>\n",
       "      <td>4695737.21</td>\n",
       "      <td>1676601.43</td>\n",
       "      <td>1543280.76</td>\n",
       "      <td>266689.82</td>\n",
       "      <td>1209165.20</td>\n",
       "      <td>1061703.58</td>\n",
       "      <td>136747.10</td>\n",
       "      <td>10714.52</td>\n",
       "      <td>conventional</td>\n",
       "      <td>2015</td>\n",
       "      <td>California</td>\n",
       "    </tr>\n",
       "    <tr>\n",
       "      <th>2</th>\n",
       "      <td>2015-12-13</td>\n",
       "      <td>0.87</td>\n",
       "      <td>5259354.30</td>\n",
       "      <td>1806690.08</td>\n",
       "      <td>1627240.76</td>\n",
       "      <td>232985.13</td>\n",
       "      <td>1592438.33</td>\n",
       "      <td>1404012.00</td>\n",
       "      <td>180150.37</td>\n",
       "      <td>8275.96</td>\n",
       "      <td>conventional</td>\n",
       "      <td>2015</td>\n",
       "      <td>California</td>\n",
       "    </tr>\n",
       "    <tr>\n",
       "      <th>3</th>\n",
       "      <td>2015-12-06</td>\n",
       "      <td>0.78</td>\n",
       "      <td>5775536.27</td>\n",
       "      <td>1943065.50</td>\n",
       "      <td>2100246.17</td>\n",
       "      <td>221957.26</td>\n",
       "      <td>1510267.34</td>\n",
       "      <td>1376640.91</td>\n",
       "      <td>126664.37</td>\n",
       "      <td>6962.06</td>\n",
       "      <td>conventional</td>\n",
       "      <td>2015</td>\n",
       "      <td>California</td>\n",
       "    </tr>\n",
       "    <tr>\n",
       "      <th>4</th>\n",
       "      <td>2015-11-29</td>\n",
       "      <td>0.91</td>\n",
       "      <td>4575710.62</td>\n",
       "      <td>1461699.38</td>\n",
       "      <td>1810202.70</td>\n",
       "      <td>222311.07</td>\n",
       "      <td>1081497.47</td>\n",
       "      <td>991568.84</td>\n",
       "      <td>82338.39</td>\n",
       "      <td>7590.24</td>\n",
       "      <td>conventional</td>\n",
       "      <td>2015</td>\n",
       "      <td>California</td>\n",
       "    </tr>\n",
       "  </tbody>\n",
       "</table>\n",
       "</div>"
      ],
      "text/plain": [
       "         Date  AveragePrice  Total Volume       4046       4225      4770  \\\n",
       "0  2015-12-27          0.90    5040365.47 1833946.59 1760956.02 232755.85   \n",
       "1  2015-12-20          0.94    4695737.21 1676601.43 1543280.76 266689.82   \n",
       "2  2015-12-13          0.87    5259354.30 1806690.08 1627240.76 232985.13   \n",
       "3  2015-12-06          0.78    5775536.27 1943065.50 2100246.17 221957.26   \n",
       "4  2015-11-29          0.91    4575710.62 1461699.38 1810202.70 222311.07   \n",
       "\n",
       "   Total Bags  Small Bags  Large Bags  XLarge Bags          type  year  \\\n",
       "0  1212707.01  1090140.07   110737.35     11829.59  conventional  2015   \n",
       "1  1209165.20  1061703.58   136747.10     10714.52  conventional  2015   \n",
       "2  1592438.33  1404012.00   180150.37      8275.96  conventional  2015   \n",
       "3  1510267.34  1376640.91   126664.37      6962.06  conventional  2015   \n",
       "4  1081497.47   991568.84    82338.39      7590.24  conventional  2015   \n",
       "\n",
       "       region  \n",
       "0  California  \n",
       "1  California  \n",
       "2  California  \n",
       "3  California  \n",
       "4  California  "
      ]
     },
     "execution_count": 7,
     "metadata": {},
     "output_type": "execute_result"
    }
   ],
   "source": [
    "df = df[(df['region'] == 'California') & (df['type'] == 'conventional')]\n",
    "df.head()"
   ]
  },
  {
   "cell_type": "markdown",
   "id": "2033ee43",
   "metadata": {},
   "source": [
    "### Feature Engineering"
   ]
  },
  {
   "cell_type": "markdown",
   "id": "2bc7c073",
   "metadata": {},
   "source": [
    "có thể xem xét yếu tố mùa xuân hạ thu đông có ảnh hưởng đến AveragePrice\n",
    "- mùa xuân: tháng 3,4,5\n",
    "- mùa hạ: tháng 6,7,8\n",
    "- mùa thu: tháng 9,10,11\n",
    "- mùa đông: tháng 12,1,2"
   ]
  },
  {
   "cell_type": "code",
   "execution_count": 8,
   "id": "af59d9a9",
   "metadata": {},
   "outputs": [],
   "source": [
    "#chuyển dữ liệu biến Date về kiểu datetime\n",
    "df['Date'] = pd.to_datetime(df['Date'])"
   ]
  },
  {
   "cell_type": "code",
   "execution_count": 9,
   "id": "2cdfbc7f",
   "metadata": {},
   "outputs": [
    {
     "data": {
      "text/html": [
       "<div>\n",
       "<style scoped>\n",
       "    .dataframe tbody tr th:only-of-type {\n",
       "        vertical-align: middle;\n",
       "    }\n",
       "\n",
       "    .dataframe tbody tr th {\n",
       "        vertical-align: top;\n",
       "    }\n",
       "\n",
       "    .dataframe thead th {\n",
       "        text-align: right;\n",
       "    }\n",
       "</style>\n",
       "<table border=\"1\" class=\"dataframe\">\n",
       "  <thead>\n",
       "    <tr style=\"text-align: right;\">\n",
       "      <th></th>\n",
       "      <th>Date</th>\n",
       "      <th>AveragePrice</th>\n",
       "      <th>Total Volume</th>\n",
       "      <th>4046</th>\n",
       "      <th>4225</th>\n",
       "      <th>4770</th>\n",
       "      <th>Total Bags</th>\n",
       "      <th>Small Bags</th>\n",
       "      <th>Large Bags</th>\n",
       "      <th>XLarge Bags</th>\n",
       "      <th>type</th>\n",
       "      <th>year</th>\n",
       "      <th>region</th>\n",
       "      <th>Month</th>\n",
       "    </tr>\n",
       "  </thead>\n",
       "  <tbody>\n",
       "    <tr>\n",
       "      <th>0</th>\n",
       "      <td>2015-12-27</td>\n",
       "      <td>0.90</td>\n",
       "      <td>5040365.47</td>\n",
       "      <td>1833946.59</td>\n",
       "      <td>1760956.02</td>\n",
       "      <td>232755.85</td>\n",
       "      <td>1212707.01</td>\n",
       "      <td>1090140.07</td>\n",
       "      <td>110737.35</td>\n",
       "      <td>11829.59</td>\n",
       "      <td>conventional</td>\n",
       "      <td>2015</td>\n",
       "      <td>California</td>\n",
       "      <td>12</td>\n",
       "    </tr>\n",
       "    <tr>\n",
       "      <th>1</th>\n",
       "      <td>2015-12-20</td>\n",
       "      <td>0.94</td>\n",
       "      <td>4695737.21</td>\n",
       "      <td>1676601.43</td>\n",
       "      <td>1543280.76</td>\n",
       "      <td>266689.82</td>\n",
       "      <td>1209165.20</td>\n",
       "      <td>1061703.58</td>\n",
       "      <td>136747.10</td>\n",
       "      <td>10714.52</td>\n",
       "      <td>conventional</td>\n",
       "      <td>2015</td>\n",
       "      <td>California</td>\n",
       "      <td>12</td>\n",
       "    </tr>\n",
       "    <tr>\n",
       "      <th>2</th>\n",
       "      <td>2015-12-13</td>\n",
       "      <td>0.87</td>\n",
       "      <td>5259354.30</td>\n",
       "      <td>1806690.08</td>\n",
       "      <td>1627240.76</td>\n",
       "      <td>232985.13</td>\n",
       "      <td>1592438.33</td>\n",
       "      <td>1404012.00</td>\n",
       "      <td>180150.37</td>\n",
       "      <td>8275.96</td>\n",
       "      <td>conventional</td>\n",
       "      <td>2015</td>\n",
       "      <td>California</td>\n",
       "      <td>12</td>\n",
       "    </tr>\n",
       "    <tr>\n",
       "      <th>3</th>\n",
       "      <td>2015-12-06</td>\n",
       "      <td>0.78</td>\n",
       "      <td>5775536.27</td>\n",
       "      <td>1943065.50</td>\n",
       "      <td>2100246.17</td>\n",
       "      <td>221957.26</td>\n",
       "      <td>1510267.34</td>\n",
       "      <td>1376640.91</td>\n",
       "      <td>126664.37</td>\n",
       "      <td>6962.06</td>\n",
       "      <td>conventional</td>\n",
       "      <td>2015</td>\n",
       "      <td>California</td>\n",
       "      <td>12</td>\n",
       "    </tr>\n",
       "    <tr>\n",
       "      <th>4</th>\n",
       "      <td>2015-11-29</td>\n",
       "      <td>0.91</td>\n",
       "      <td>4575710.62</td>\n",
       "      <td>1461699.38</td>\n",
       "      <td>1810202.70</td>\n",
       "      <td>222311.07</td>\n",
       "      <td>1081497.47</td>\n",
       "      <td>991568.84</td>\n",
       "      <td>82338.39</td>\n",
       "      <td>7590.24</td>\n",
       "      <td>conventional</td>\n",
       "      <td>2015</td>\n",
       "      <td>California</td>\n",
       "      <td>11</td>\n",
       "    </tr>\n",
       "  </tbody>\n",
       "</table>\n",
       "</div>"
      ],
      "text/plain": [
       "        Date  AveragePrice  Total Volume       4046       4225      4770  \\\n",
       "0 2015-12-27          0.90    5040365.47 1833946.59 1760956.02 232755.85   \n",
       "1 2015-12-20          0.94    4695737.21 1676601.43 1543280.76 266689.82   \n",
       "2 2015-12-13          0.87    5259354.30 1806690.08 1627240.76 232985.13   \n",
       "3 2015-12-06          0.78    5775536.27 1943065.50 2100246.17 221957.26   \n",
       "4 2015-11-29          0.91    4575710.62 1461699.38 1810202.70 222311.07   \n",
       "\n",
       "   Total Bags  Small Bags  Large Bags  XLarge Bags          type  year  \\\n",
       "0  1212707.01  1090140.07   110737.35     11829.59  conventional  2015   \n",
       "1  1209165.20  1061703.58   136747.10     10714.52  conventional  2015   \n",
       "2  1592438.33  1404012.00   180150.37      8275.96  conventional  2015   \n",
       "3  1510267.34  1376640.91   126664.37      6962.06  conventional  2015   \n",
       "4  1081497.47   991568.84    82338.39      7590.24  conventional  2015   \n",
       "\n",
       "       region  Month  \n",
       "0  California     12  \n",
       "1  California     12  \n",
       "2  California     12  \n",
       "3  California     12  \n",
       "4  California     11  "
      ]
     },
     "execution_count": 9,
     "metadata": {},
     "output_type": "execute_result"
    }
   ],
   "source": [
    "#tạo ra cột Month\n",
    "df['Month'] = pd.DatetimeIndex(df['Date']).month\n",
    "df.head()"
   ]
  },
  {
   "cell_type": "code",
   "execution_count": 10,
   "id": "286f4cf4",
   "metadata": {},
   "outputs": [],
   "source": [
    "def to_season(month):\n",
    "    if month >= 3 and month <= 5:\n",
    "        return 0\n",
    "    elif month >= 6 and month <= 8:\n",
    "        return 1\n",
    "    elif month >= 9 and month <= 11:\n",
    "        return 2\n",
    "    else:\n",
    "        return 3"
   ]
  },
  {
   "cell_type": "code",
   "execution_count": 11,
   "id": "590c9e15",
   "metadata": {},
   "outputs": [],
   "source": [
    "#tạo ra cột Season\n",
    "df['Season'] = df['Month'].apply(lambda x: to_season(x))"
   ]
  },
  {
   "cell_type": "code",
   "execution_count": 12,
   "id": "444a0474",
   "metadata": {},
   "outputs": [
    {
     "data": {
      "text/html": [
       "<div>\n",
       "<style scoped>\n",
       "    .dataframe tbody tr th:only-of-type {\n",
       "        vertical-align: middle;\n",
       "    }\n",
       "\n",
       "    .dataframe tbody tr th {\n",
       "        vertical-align: top;\n",
       "    }\n",
       "\n",
       "    .dataframe thead th {\n",
       "        text-align: right;\n",
       "    }\n",
       "</style>\n",
       "<table border=\"1\" class=\"dataframe\">\n",
       "  <thead>\n",
       "    <tr style=\"text-align: right;\">\n",
       "      <th></th>\n",
       "      <th>Date</th>\n",
       "      <th>AveragePrice</th>\n",
       "      <th>Total Volume</th>\n",
       "      <th>4046</th>\n",
       "      <th>4225</th>\n",
       "      <th>4770</th>\n",
       "      <th>Total Bags</th>\n",
       "      <th>Small Bags</th>\n",
       "      <th>Large Bags</th>\n",
       "      <th>XLarge Bags</th>\n",
       "      <th>type</th>\n",
       "      <th>year</th>\n",
       "      <th>region</th>\n",
       "      <th>Month</th>\n",
       "      <th>Season</th>\n",
       "    </tr>\n",
       "  </thead>\n",
       "  <tbody>\n",
       "    <tr>\n",
       "      <th>0</th>\n",
       "      <td>2015-12-27</td>\n",
       "      <td>0.90</td>\n",
       "      <td>5040365.47</td>\n",
       "      <td>1833946.59</td>\n",
       "      <td>1760956.02</td>\n",
       "      <td>232755.85</td>\n",
       "      <td>1212707.01</td>\n",
       "      <td>1090140.07</td>\n",
       "      <td>110737.35</td>\n",
       "      <td>11829.59</td>\n",
       "      <td>conventional</td>\n",
       "      <td>2015</td>\n",
       "      <td>California</td>\n",
       "      <td>12</td>\n",
       "      <td>3</td>\n",
       "    </tr>\n",
       "    <tr>\n",
       "      <th>1</th>\n",
       "      <td>2015-12-20</td>\n",
       "      <td>0.94</td>\n",
       "      <td>4695737.21</td>\n",
       "      <td>1676601.43</td>\n",
       "      <td>1543280.76</td>\n",
       "      <td>266689.82</td>\n",
       "      <td>1209165.20</td>\n",
       "      <td>1061703.58</td>\n",
       "      <td>136747.10</td>\n",
       "      <td>10714.52</td>\n",
       "      <td>conventional</td>\n",
       "      <td>2015</td>\n",
       "      <td>California</td>\n",
       "      <td>12</td>\n",
       "      <td>3</td>\n",
       "    </tr>\n",
       "    <tr>\n",
       "      <th>2</th>\n",
       "      <td>2015-12-13</td>\n",
       "      <td>0.87</td>\n",
       "      <td>5259354.30</td>\n",
       "      <td>1806690.08</td>\n",
       "      <td>1627240.76</td>\n",
       "      <td>232985.13</td>\n",
       "      <td>1592438.33</td>\n",
       "      <td>1404012.00</td>\n",
       "      <td>180150.37</td>\n",
       "      <td>8275.96</td>\n",
       "      <td>conventional</td>\n",
       "      <td>2015</td>\n",
       "      <td>California</td>\n",
       "      <td>12</td>\n",
       "      <td>3</td>\n",
       "    </tr>\n",
       "    <tr>\n",
       "      <th>3</th>\n",
       "      <td>2015-12-06</td>\n",
       "      <td>0.78</td>\n",
       "      <td>5775536.27</td>\n",
       "      <td>1943065.50</td>\n",
       "      <td>2100246.17</td>\n",
       "      <td>221957.26</td>\n",
       "      <td>1510267.34</td>\n",
       "      <td>1376640.91</td>\n",
       "      <td>126664.37</td>\n",
       "      <td>6962.06</td>\n",
       "      <td>conventional</td>\n",
       "      <td>2015</td>\n",
       "      <td>California</td>\n",
       "      <td>12</td>\n",
       "      <td>3</td>\n",
       "    </tr>\n",
       "    <tr>\n",
       "      <th>4</th>\n",
       "      <td>2015-11-29</td>\n",
       "      <td>0.91</td>\n",
       "      <td>4575710.62</td>\n",
       "      <td>1461699.38</td>\n",
       "      <td>1810202.70</td>\n",
       "      <td>222311.07</td>\n",
       "      <td>1081497.47</td>\n",
       "      <td>991568.84</td>\n",
       "      <td>82338.39</td>\n",
       "      <td>7590.24</td>\n",
       "      <td>conventional</td>\n",
       "      <td>2015</td>\n",
       "      <td>California</td>\n",
       "      <td>11</td>\n",
       "      <td>2</td>\n",
       "    </tr>\n",
       "  </tbody>\n",
       "</table>\n",
       "</div>"
      ],
      "text/plain": [
       "        Date  AveragePrice  Total Volume       4046       4225      4770  \\\n",
       "0 2015-12-27          0.90    5040365.47 1833946.59 1760956.02 232755.85   \n",
       "1 2015-12-20          0.94    4695737.21 1676601.43 1543280.76 266689.82   \n",
       "2 2015-12-13          0.87    5259354.30 1806690.08 1627240.76 232985.13   \n",
       "3 2015-12-06          0.78    5775536.27 1943065.50 2100246.17 221957.26   \n",
       "4 2015-11-29          0.91    4575710.62 1461699.38 1810202.70 222311.07   \n",
       "\n",
       "   Total Bags  Small Bags  Large Bags  XLarge Bags          type  year  \\\n",
       "0  1212707.01  1090140.07   110737.35     11829.59  conventional  2015   \n",
       "1  1209165.20  1061703.58   136747.10     10714.52  conventional  2015   \n",
       "2  1592438.33  1404012.00   180150.37      8275.96  conventional  2015   \n",
       "3  1510267.34  1376640.91   126664.37      6962.06  conventional  2015   \n",
       "4  1081497.47   991568.84    82338.39      7590.24  conventional  2015   \n",
       "\n",
       "       region  Month  Season  \n",
       "0  California     12       3  \n",
       "1  California     12       3  \n",
       "2  California     12       3  \n",
       "3  California     12       3  \n",
       "4  California     11       2  "
      ]
     },
     "execution_count": 12,
     "metadata": {},
     "output_type": "execute_result"
    }
   ],
   "source": [
    "df.head()"
   ]
  },
  {
   "cell_type": "markdown",
   "id": "620936f1",
   "metadata": {},
   "source": [
    "#### Như chúng ta đã hiểu khi phân tích cho cả nước Mỹ, các yếu tố về năm, tháng, season có ảnh hưởng đến AveragePrice, và chúng ta cũng loại những biến đa cộng tuyến chỉ giữ lại Total Volume và Total Bags để đưa vào mô hình dự đoán giá </span>"
   ]
  },
  {
   "cell_type": "code",
   "execution_count": 17,
   "id": "f7740132",
   "metadata": {},
   "outputs": [],
   "source": [
    "#lựa chọn thuộc tính, bỏ đi các thuộc tính dư thừa\n",
    "y = df['AveragePrice']\n",
    "X = df.drop(['Date','AveragePrice','region','type','4046','4225','4770','Small Bags','Large Bags','XLarge Bags'], axis=1)"
   ]
  },
  {
   "cell_type": "code",
   "execution_count": 18,
   "id": "5ef30044",
   "metadata": {},
   "outputs": [
    {
     "data": {
      "text/html": [
       "<div>\n",
       "<style scoped>\n",
       "    .dataframe tbody tr th:only-of-type {\n",
       "        vertical-align: middle;\n",
       "    }\n",
       "\n",
       "    .dataframe tbody tr th {\n",
       "        vertical-align: top;\n",
       "    }\n",
       "\n",
       "    .dataframe thead th {\n",
       "        text-align: right;\n",
       "    }\n",
       "</style>\n",
       "<table border=\"1\" class=\"dataframe\">\n",
       "  <thead>\n",
       "    <tr style=\"text-align: right;\">\n",
       "      <th></th>\n",
       "      <th>Total Volume</th>\n",
       "      <th>Total Bags</th>\n",
       "      <th>year</th>\n",
       "      <th>Month</th>\n",
       "      <th>Season</th>\n",
       "    </tr>\n",
       "  </thead>\n",
       "  <tbody>\n",
       "    <tr>\n",
       "      <th>0</th>\n",
       "      <td>5040365.47</td>\n",
       "      <td>1212707.01</td>\n",
       "      <td>2015</td>\n",
       "      <td>12</td>\n",
       "      <td>3</td>\n",
       "    </tr>\n",
       "    <tr>\n",
       "      <th>1</th>\n",
       "      <td>4695737.21</td>\n",
       "      <td>1209165.20</td>\n",
       "      <td>2015</td>\n",
       "      <td>12</td>\n",
       "      <td>3</td>\n",
       "    </tr>\n",
       "    <tr>\n",
       "      <th>2</th>\n",
       "      <td>5259354.30</td>\n",
       "      <td>1592438.33</td>\n",
       "      <td>2015</td>\n",
       "      <td>12</td>\n",
       "      <td>3</td>\n",
       "    </tr>\n",
       "    <tr>\n",
       "      <th>3</th>\n",
       "      <td>5775536.27</td>\n",
       "      <td>1510267.34</td>\n",
       "      <td>2015</td>\n",
       "      <td>12</td>\n",
       "      <td>3</td>\n",
       "    </tr>\n",
       "    <tr>\n",
       "      <th>4</th>\n",
       "      <td>4575710.62</td>\n",
       "      <td>1081497.47</td>\n",
       "      <td>2015</td>\n",
       "      <td>11</td>\n",
       "      <td>2</td>\n",
       "    </tr>\n",
       "  </tbody>\n",
       "</table>\n",
       "</div>"
      ],
      "text/plain": [
       "   Total Volume  Total Bags  year  Month  Season\n",
       "0    5040365.47  1212707.01  2015     12       3\n",
       "1    4695737.21  1209165.20  2015     12       3\n",
       "2    5259354.30  1592438.33  2015     12       3\n",
       "3    5775536.27  1510267.34  2015     12       3\n",
       "4    4575710.62  1081497.47  2015     11       2"
      ]
     },
     "execution_count": 18,
     "metadata": {},
     "output_type": "execute_result"
    }
   ],
   "source": [
    "X.head()"
   ]
  },
  {
   "cell_type": "markdown",
   "id": "9d6de71b",
   "metadata": {},
   "source": [
    "### Modeling & Evaluation / Analyze & Report"
   ]
  },
  {
   "cell_type": "code",
   "execution_count": 20,
   "id": "1a7538f0",
   "metadata": {},
   "outputs": [],
   "source": [
    "X_train, X_test, y_train, y_test = train_test_split(X, y, test_size=0.25, random_state=42)"
   ]
  },
  {
   "cell_type": "markdown",
   "id": "44a15fa3",
   "metadata": {},
   "source": [
    "trước đó chúng ta đã biết RandomForestRegressor, XGBRegressor, BaggingRegressor là những mô hình phù hợp cho việc dự đoán giá bơ trên toàn nước Mỹ, chúng ta sẽ đi kiểm nghiệm lại xem những mô hình này có phù hợp với việc dự đoán giá \"cục bộ\" cho loại conventional ở California không"
   ]
  },
  {
   "cell_type": "markdown",
   "id": "fd4b4a8f",
   "metadata": {},
   "source": [
    "#### Dùng RandomForestRegressor"
   ]
  },
  {
   "cell_type": "code",
   "execution_count": 21,
   "id": "6cee3689",
   "metadata": {},
   "outputs": [],
   "source": [
    "pipe_RF = Pipeline([('scaler', StandardScaler()), ('rf', RandomForestRegressor())])\n",
    "pipe_RF.fit(X_train, y_train)\n",
    "y_pred_RF = pipe_RF.predict(X_test)\n",
    "mae_RF = mean_absolute_error(y_test, y_pred_RF)\n",
    "r2_RF = r2_score(y_test, y_pred_RF)\n",
    "train_RF = pipe_RF.score(X_train,y_train)\n",
    "test_RF = pipe_RF.score(X_test,y_test)"
   ]
  },
  {
   "cell_type": "markdown",
   "id": "20a5fae0",
   "metadata": {},
   "source": [
    "#### Dùng XGBRegressor"
   ]
  },
  {
   "cell_type": "code",
   "execution_count": 22,
   "id": "9ec4e943",
   "metadata": {},
   "outputs": [],
   "source": [
    "pipe_XGB = Pipeline([('scaler', StandardScaler()), ('xgb', XGBRegressor())])\n",
    "pipe_XGB.fit(X_train, y_train)\n",
    "y_pred_XGB = pipe_XGB.predict(X_test)\n",
    "mae_XGB = mean_absolute_error(y_test, y_pred_XGB)\n",
    "r2_XGB = r2_score(y_test, y_pred_XGB)\n",
    "train_XGB = pipe_XGB.score(X_train,y_train)\n",
    "test_XGB = pipe_XGB.score(X_test,y_test)"
   ]
  },
  {
   "cell_type": "markdown",
   "id": "d55f0bc1",
   "metadata": {},
   "source": [
    "#### Dùng BaggingRegressor"
   ]
  },
  {
   "cell_type": "code",
   "execution_count": 23,
   "id": "eae0ce44",
   "metadata": {},
   "outputs": [],
   "source": [
    "# importing bagging module\n",
    "from sklearn.ensemble import BaggingRegressor\n",
    "import xgboost as xgb"
   ]
  },
  {
   "cell_type": "code",
   "execution_count": 28,
   "id": "b8772ee4",
   "metadata": {},
   "outputs": [],
   "source": [
    "pipe_BAG = Pipeline([('scaler', StandardScaler()), ('bag', BaggingRegressor(base_estimator=xgb.XGBRegressor()))])\n",
    "pipe_BAG.fit(X_train, y_train)\n",
    "y_pred_BAG = pipe_BAG.predict(X_test)\n",
    "mae_BAG = mean_absolute_error(y_test, y_pred_BAG)\n",
    "r2_BAG = r2_score(y_test, y_pred_BAG)\n",
    "train_BAG = pipe_BAG.score(X_train,y_train)\n",
    "test_BAG = pipe_BAG.score(X_test,y_test)"
   ]
  },
  {
   "cell_type": "code",
   "execution_count": 29,
   "id": "967be1c2",
   "metadata": {},
   "outputs": [
    {
     "data": {
      "text/html": [
       "<div>\n",
       "<style scoped>\n",
       "    .dataframe tbody tr th:only-of-type {\n",
       "        vertical-align: middle;\n",
       "    }\n",
       "\n",
       "    .dataframe tbody tr th {\n",
       "        vertical-align: top;\n",
       "    }\n",
       "\n",
       "    .dataframe thead th {\n",
       "        text-align: right;\n",
       "    }\n",
       "</style>\n",
       "<table border=\"1\" class=\"dataframe\">\n",
       "  <thead>\n",
       "    <tr style=\"text-align: right;\">\n",
       "      <th></th>\n",
       "      <th>algorithm</th>\n",
       "      <th>score train</th>\n",
       "      <th>score test</th>\n",
       "      <th>R2 score</th>\n",
       "      <th>MAE</th>\n",
       "    </tr>\n",
       "  </thead>\n",
       "  <tbody>\n",
       "    <tr>\n",
       "      <th>0</th>\n",
       "      <td>RandomForestRegressor</td>\n",
       "      <td>0.98</td>\n",
       "      <td>0.88</td>\n",
       "      <td>0.88</td>\n",
       "      <td>0.05</td>\n",
       "    </tr>\n",
       "    <tr>\n",
       "      <th>1</th>\n",
       "      <td>XGBRegressor</td>\n",
       "      <td>1.00</td>\n",
       "      <td>0.91</td>\n",
       "      <td>0.91</td>\n",
       "      <td>0.05</td>\n",
       "    </tr>\n",
       "    <tr>\n",
       "      <th>2</th>\n",
       "      <td>BaggingRegressor</td>\n",
       "      <td>0.99</td>\n",
       "      <td>0.87</td>\n",
       "      <td>0.87</td>\n",
       "      <td>0.05</td>\n",
       "    </tr>\n",
       "  </tbody>\n",
       "</table>\n",
       "</div>"
      ],
      "text/plain": [
       "               algorithm  score train  score test  R2 score  MAE\n",
       "0  RandomForestRegressor         0.98        0.88      0.88 0.05\n",
       "1           XGBRegressor         1.00        0.91      0.91 0.05\n",
       "2       BaggingRegressor         0.99        0.87      0.87 0.05"
      ]
     },
     "execution_count": 29,
     "metadata": {},
     "output_type": "execute_result"
    }
   ],
   "source": [
    "scoring = pd.DataFrame({\"algorithm\":['RandomForestRegressor', 'XGBRegressor', 'BaggingRegressor'],\n",
    "                        \"score train\":[train_RF, train_XGB, train_BAG], \n",
    "                        \"score test\":[test_RF, test_XGB, test_BAG],\n",
    "                        \"R2 score\":[r2_RF, r2_XGB, r2_BAG],\n",
    "                        \"MAE\":[mae_RF, mae_XGB, mae_BAG]})\n",
    "scoring"
   ]
  },
  {
   "cell_type": "code",
   "execution_count": 30,
   "id": "7e6b2450",
   "metadata": {},
   "outputs": [
    {
     "data": {
      "text/plain": [
       "1.1054437869822484"
      ]
     },
     "execution_count": 30,
     "metadata": {},
     "output_type": "execute_result"
    }
   ],
   "source": [
    "y.mean()"
   ]
  },
  {
   "cell_type": "code",
   "execution_count": 31,
   "id": "b6245284",
   "metadata": {},
   "outputs": [
    {
     "data": {
      "image/png": "[encoded data removed]",
      "text/plain": [
       "<Figure size 1008x432 with 1 Axes>"
      ]
     },
     "metadata": {
      "needs_background": "light"
     },
     "output_type": "display_data"
    }
   ],
   "source": [
    "#trục quan hóa dữ liệu\n",
    "final = pd.DataFrame({'Actual': y_test.values, \n",
    "                   'Prediction': pd.DataFrame(y_pred_XGB)[0].values}) \n",
    "\n",
    "plt.figure(figsize=(14,6))\n",
    "ax1 = sns.kdeplot(final['Actual'], color='r', label='Actual Test Value')\n",
    "sns.kdeplot(final['Prediction'], color='b', label='Predicted Test Value', ax=ax1)\n",
    "plt.legend()\n",
    "plt.show()"
   ]
  },
  {
   "cell_type": "markdown",
   "id": "2fc0cbdd",
   "metadata": {},
   "source": [
    "### Kết luận:\n",
    "<b style=\"color:blue\">Đối với Conventional Avocado tại California, XGBoost cho kết quả R2 cao nhất đại 91% và mức độ overfitting thấp nhất trong 3 mô hình, với MAE bằng với các mô hình còn lại (khoảng 5% so với mean của dữ liệu), biểu đồ cũng cho thấy mô hình dự đoán rất sát với thực tế => sử dụng XGBoost để dự đoán giá Conventional Avocado tại California</b>"
   ]
  },
  {
   "cell_type": "markdown",
   "id": "46157c25",
   "metadata": {},
   "source": [
    "# Yêu cầu 2: Bài Toán Dự Đoán Conventional Avocado tại California bằng ARIMA và Facebook Prophet\n",
    "\n",
    "tới thời điểm này, chúng ta có thêm 1 góc nhìn khác để trả lời câu hỏi liệu California có khả năng phát triển kinh doanh bơ conventional trong năm tới không.\n",
    "\n",
    "Để trả lời câu hỏi này, chúng ta tạm thời chưa bàn tới câu chuyện lợi nhuận kinh doanh vì trong dữ liệu không có, chúng ta sẽ xem xét xu hướng tăng của giá và doanh số bán hàng. Nếu cả 2 cùng tăng => có tiềm năng, nếu cả 2 cùng giảm => không tiềm năng, nhưng nếu cái tăng cái giảm thì sao???\n",
    "\n",
    "Vì vậy, chúng ta cần tạo ra thêm biến <b>doanh thu trung bình = giá bán trung bình * doanh số, khi đó nếu doanh thu trung bình có xu hướng tăng => có tiềm năng, ngược lại là không tiềm năng</b>"
   ]
  },
  {
   "cell_type": "markdown",
   "id": "0e7dce7c",
   "metadata": {},
   "source": [
    "#### Chuẩn bị dữ liệu"
   ]
  },
  {
   "cell_type": "code",
   "execution_count": 33,
   "id": "5f2f4d79",
   "metadata": {},
   "outputs": [
    {
     "data": {
      "text/html": [
       "<div>\n",
       "<style scoped>\n",
       "    .dataframe tbody tr th:only-of-type {\n",
       "        vertical-align: middle;\n",
       "    }\n",
       "\n",
       "    .dataframe tbody tr th {\n",
       "        vertical-align: top;\n",
       "    }\n",
       "\n",
       "    .dataframe thead th {\n",
       "        text-align: right;\n",
       "    }\n",
       "</style>\n",
       "<table border=\"1\" class=\"dataframe\">\n",
       "  <thead>\n",
       "    <tr style=\"text-align: right;\">\n",
       "      <th></th>\n",
       "      <th>Date</th>\n",
       "      <th>AveragePrice</th>\n",
       "      <th>Total Volume</th>\n",
       "      <th>4046</th>\n",
       "      <th>4225</th>\n",
       "      <th>4770</th>\n",
       "      <th>Total Bags</th>\n",
       "      <th>Small Bags</th>\n",
       "      <th>Large Bags</th>\n",
       "      <th>XLarge Bags</th>\n",
       "      <th>type</th>\n",
       "      <th>year</th>\n",
       "      <th>region</th>\n",
       "      <th>Month</th>\n",
       "      <th>Season</th>\n",
       "    </tr>\n",
       "  </thead>\n",
       "  <tbody>\n",
       "    <tr>\n",
       "      <th>0</th>\n",
       "      <td>2015-12-27</td>\n",
       "      <td>0.90</td>\n",
       "      <td>5040365.47</td>\n",
       "      <td>1833946.59</td>\n",
       "      <td>1760956.02</td>\n",
       "      <td>232755.85</td>\n",
       "      <td>1212707.01</td>\n",
       "      <td>1090140.07</td>\n",
       "      <td>110737.35</td>\n",
       "      <td>11829.59</td>\n",
       "      <td>conventional</td>\n",
       "      <td>2015</td>\n",
       "      <td>California</td>\n",
       "      <td>12</td>\n",
       "      <td>3</td>\n",
       "    </tr>\n",
       "    <tr>\n",
       "      <th>1</th>\n",
       "      <td>2015-12-20</td>\n",
       "      <td>0.94</td>\n",
       "      <td>4695737.21</td>\n",
       "      <td>1676601.43</td>\n",
       "      <td>1543280.76</td>\n",
       "      <td>266689.82</td>\n",
       "      <td>1209165.20</td>\n",
       "      <td>1061703.58</td>\n",
       "      <td>136747.10</td>\n",
       "      <td>10714.52</td>\n",
       "      <td>conventional</td>\n",
       "      <td>2015</td>\n",
       "      <td>California</td>\n",
       "      <td>12</td>\n",
       "      <td>3</td>\n",
       "    </tr>\n",
       "    <tr>\n",
       "      <th>2</th>\n",
       "      <td>2015-12-13</td>\n",
       "      <td>0.87</td>\n",
       "      <td>5259354.30</td>\n",
       "      <td>1806690.08</td>\n",
       "      <td>1627240.76</td>\n",
       "      <td>232985.13</td>\n",
       "      <td>1592438.33</td>\n",
       "      <td>1404012.00</td>\n",
       "      <td>180150.37</td>\n",
       "      <td>8275.96</td>\n",
       "      <td>conventional</td>\n",
       "      <td>2015</td>\n",
       "      <td>California</td>\n",
       "      <td>12</td>\n",
       "      <td>3</td>\n",
       "    </tr>\n",
       "    <tr>\n",
       "      <th>3</th>\n",
       "      <td>2015-12-06</td>\n",
       "      <td>0.78</td>\n",
       "      <td>5775536.27</td>\n",
       "      <td>1943065.50</td>\n",
       "      <td>2100246.17</td>\n",
       "      <td>221957.26</td>\n",
       "      <td>1510267.34</td>\n",
       "      <td>1376640.91</td>\n",
       "      <td>126664.37</td>\n",
       "      <td>6962.06</td>\n",
       "      <td>conventional</td>\n",
       "      <td>2015</td>\n",
       "      <td>California</td>\n",
       "      <td>12</td>\n",
       "      <td>3</td>\n",
       "    </tr>\n",
       "    <tr>\n",
       "      <th>4</th>\n",
       "      <td>2015-11-29</td>\n",
       "      <td>0.91</td>\n",
       "      <td>4575710.62</td>\n",
       "      <td>1461699.38</td>\n",
       "      <td>1810202.70</td>\n",
       "      <td>222311.07</td>\n",
       "      <td>1081497.47</td>\n",
       "      <td>991568.84</td>\n",
       "      <td>82338.39</td>\n",
       "      <td>7590.24</td>\n",
       "      <td>conventional</td>\n",
       "      <td>2015</td>\n",
       "      <td>California</td>\n",
       "      <td>11</td>\n",
       "      <td>2</td>\n",
       "    </tr>\n",
       "  </tbody>\n",
       "</table>\n",
       "</div>"
      ],
      "text/plain": [
       "        Date  AveragePrice  Total Volume       4046       4225      4770  \\\n",
       "0 2015-12-27          0.90    5040365.47 1833946.59 1760956.02 232755.85   \n",
       "1 2015-12-20          0.94    4695737.21 1676601.43 1543280.76 266689.82   \n",
       "2 2015-12-13          0.87    5259354.30 1806690.08 1627240.76 232985.13   \n",
       "3 2015-12-06          0.78    5775536.27 1943065.50 2100246.17 221957.26   \n",
       "4 2015-11-29          0.91    4575710.62 1461699.38 1810202.70 222311.07   \n",
       "\n",
       "   Total Bags  Small Bags  Large Bags  XLarge Bags          type  year  \\\n",
       "0  1212707.01  1090140.07   110737.35     11829.59  conventional  2015   \n",
       "1  1209165.20  1061703.58   136747.10     10714.52  conventional  2015   \n",
       "2  1592438.33  1404012.00   180150.37      8275.96  conventional  2015   \n",
       "3  1510267.34  1376640.91   126664.37      6962.06  conventional  2015   \n",
       "4  1081497.47   991568.84    82338.39      7590.24  conventional  2015   \n",
       "\n",
       "       region  Month  Season  \n",
       "0  California     12       3  \n",
       "1  California     12       3  \n",
       "2  California     12       3  \n",
       "3  California     12       3  \n",
       "4  California     11       2  "
      ]
     },
     "execution_count": 33,
     "metadata": {},
     "output_type": "execute_result"
    }
   ],
   "source": [
    "df.head()"
   ]
  },
  {
   "cell_type": "code",
   "execution_count": 34,
   "id": "f017d9b5",
   "metadata": {},
   "outputs": [],
   "source": [
    "df['AverageRevenue'] = df['AveragePrice'] * df['Total Volume']"
   ]
  },
  {
   "cell_type": "code",
   "execution_count": 35,
   "id": "c76b830d",
   "metadata": {},
   "outputs": [
    {
     "data": {
      "text/html": [
       "<div>\n",
       "<style scoped>\n",
       "    .dataframe tbody tr th:only-of-type {\n",
       "        vertical-align: middle;\n",
       "    }\n",
       "\n",
       "    .dataframe tbody tr th {\n",
       "        vertical-align: top;\n",
       "    }\n",
       "\n",
       "    .dataframe thead th {\n",
       "        text-align: right;\n",
       "    }\n",
       "</style>\n",
       "<table border=\"1\" class=\"dataframe\">\n",
       "  <thead>\n",
       "    <tr style=\"text-align: right;\">\n",
       "      <th></th>\n",
       "      <th>Date</th>\n",
       "      <th>AverageRevenue</th>\n",
       "    </tr>\n",
       "  </thead>\n",
       "  <tbody>\n",
       "    <tr>\n",
       "      <th>0</th>\n",
       "      <td>2015-12-27</td>\n",
       "      <td>4536328.92</td>\n",
       "    </tr>\n",
       "    <tr>\n",
       "      <th>1</th>\n",
       "      <td>2015-12-20</td>\n",
       "      <td>4413992.98</td>\n",
       "    </tr>\n",
       "    <tr>\n",
       "      <th>2</th>\n",
       "      <td>2015-12-13</td>\n",
       "      <td>4575638.24</td>\n",
       "    </tr>\n",
       "    <tr>\n",
       "      <th>3</th>\n",
       "      <td>2015-12-06</td>\n",
       "      <td>4504918.29</td>\n",
       "    </tr>\n",
       "    <tr>\n",
       "      <th>4</th>\n",
       "      <td>2015-11-29</td>\n",
       "      <td>4163896.66</td>\n",
       "    </tr>\n",
       "  </tbody>\n",
       "</table>\n",
       "</div>"
      ],
      "text/plain": [
       "        Date  AverageRevenue\n",
       "0 2015-12-27      4536328.92\n",
       "1 2015-12-20      4413992.98\n",
       "2 2015-12-13      4575638.24\n",
       "3 2015-12-06      4504918.29\n",
       "4 2015-11-29      4163896.66"
      ]
     },
     "execution_count": 35,
     "metadata": {},
     "output_type": "execute_result"
    }
   ],
   "source": [
    "df_cali = df[['Date','AverageRevenue']]\n",
    "df_cali.head()"
   ]
  },
  {
   "cell_type": "code",
   "execution_count": 37,
   "id": "0d40a7f3",
   "metadata": {},
   "outputs": [],
   "source": [
    "df_cali.columns = ['ds','y']\n",
    "df_cali.sort_values('ds', inplace=True)\n",
    "df_cali.reset_index(inplace=True, drop=True)"
   ]
  },
  {
   "cell_type": "code",
   "execution_count": 38,
   "id": "665fb1e1",
   "metadata": {},
   "outputs": [
    {
     "name": "stdout",
     "output_type": "stream",
     "text": [
      "<class 'pandas.core.frame.DataFrame'>\n",
      "RangeIndex: 169 entries, 0 to 168\n",
      "Data columns (total 2 columns):\n",
      " #   Column  Non-Null Count  Dtype         \n",
      "---  ------  --------------  -----         \n",
      " 0   ds      169 non-null    datetime64[ns]\n",
      " 1   y       169 non-null    float64       \n",
      "dtypes: datetime64[ns](1), float64(1)\n",
      "memory usage: 2.8 KB\n"
     ]
    }
   ],
   "source": [
    "df_cali.info()"
   ]
  },
  {
   "cell_type": "markdown",
   "id": "05d0f4b1",
   "metadata": {},
   "source": [
    "#### Dùng ARIMA"
   ]
  },
  {
   "cell_type": "code",
   "execution_count": 39,
   "id": "743122f4",
   "metadata": {},
   "outputs": [
    {
     "data": {
      "text/html": [
       "<div>\n",
       "<style scoped>\n",
       "    .dataframe tbody tr th:only-of-type {\n",
       "        vertical-align: middle;\n",
       "    }\n",
       "\n",
       "    .dataframe tbody tr th {\n",
       "        vertical-align: top;\n",
       "    }\n",
       "\n",
       "    .dataframe thead th {\n",
       "        text-align: right;\n",
       "    }\n",
       "</style>\n",
       "<table border=\"1\" class=\"dataframe\">\n",
       "  <thead>\n",
       "    <tr style=\"text-align: right;\">\n",
       "      <th></th>\n",
       "      <th>y</th>\n",
       "    </tr>\n",
       "    <tr>\n",
       "      <th>ds</th>\n",
       "      <th></th>\n",
       "    </tr>\n",
       "  </thead>\n",
       "  <tbody>\n",
       "    <tr>\n",
       "      <th>2015-01-04</th>\n",
       "      <td>5372921.46</td>\n",
       "    </tr>\n",
       "    <tr>\n",
       "      <th>2015-01-11</th>\n",
       "      <td>5542937.75</td>\n",
       "    </tr>\n",
       "    <tr>\n",
       "      <th>2015-01-18</th>\n",
       "      <td>5682333.57</td>\n",
       "    </tr>\n",
       "    <tr>\n",
       "      <th>2015-01-25</th>\n",
       "      <td>5225677.32</td>\n",
       "    </tr>\n",
       "    <tr>\n",
       "      <th>2015-02-01</th>\n",
       "      <td>7677353.57</td>\n",
       "    </tr>\n",
       "  </tbody>\n",
       "</table>\n",
       "</div>"
      ],
      "text/plain": [
       "                    y\n",
       "ds                   \n",
       "2015-01-04 5372921.46\n",
       "2015-01-11 5542937.75\n",
       "2015-01-18 5682333.57\n",
       "2015-01-25 5225677.32\n",
       "2015-02-01 7677353.57"
      ]
     },
     "execution_count": 39,
     "metadata": {},
     "output_type": "execute_result"
    }
   ],
   "source": [
    "df_cali.set_index('ds', inplace=True)\n",
    "df_cali.head()"
   ]
  },
  {
   "cell_type": "code",
   "execution_count": 42,
   "id": "87b6b47c",
   "metadata": {},
   "outputs": [],
   "source": [
    "from statsmodels.tsa.seasonal import seasonal_decompose"
   ]
  },
  {
   "cell_type": "code",
   "execution_count": 43,
   "id": "efc7b8ad",
   "metadata": {},
   "outputs": [
    {
     "data": {
      "text/plain": [
       "<statsmodels.tsa.seasonal.DecomposeResult at 0x25f1d2bc348>"
      ]
     },
     "execution_count": 43,
     "metadata": {},
     "output_type": "execute_result"
    }
   ],
   "source": [
    "result = seasonal_decompose(df_cali, model='mul')\n",
    "result"
   ]
  },
  {
   "cell_type": "code",
   "execution_count": 44,
   "id": "cdd243bf",
   "metadata": {},
   "outputs": [
    {
     "data": {
      "image/png": "[encoded data removed]",
      "text/plain": [
       "<Figure size 432x288 with 4 Axes>"
      ]
     },
     "metadata": {
      "needs_background": "light"
     },
     "output_type": "display_data"
    }
   ],
   "source": [
    "result.plot()\n",
    "plt.show()"
   ]
  },
  {
   "cell_type": "code",
   "execution_count": 45,
   "id": "b6024af2",
   "metadata": {},
   "outputs": [
    {
     "data": {
      "image/png": "[encoded data removed]",
      "text/plain": [
       "<Figure size 1080x360 with 1 Axes>"
      ]
     },
     "metadata": {
      "needs_background": "light"
     },
     "output_type": "display_data"
    }
   ],
   "source": [
    "plt.figure(figsize=(15,5))\n",
    "plt.plot(result.resid)\n",
    "plt.show()"
   ]
  },
  {
   "cell_type": "code",
   "execution_count": 46,
   "id": "542af944",
   "metadata": {},
   "outputs": [
    {
     "data": {
      "image/png": "[encoded data removed]",
      "text/plain": [
       "<Figure size 1080x360 with 1 Axes>"
      ]
     },
     "metadata": {
      "needs_background": "light"
     },
     "output_type": "display_data"
    }
   ],
   "source": [
    "plt.figure(figsize=(15,5))\n",
    "plt.plot(result.trend)\n",
    "plt.show()"
   ]
  },
  {
   "cell_type": "code",
   "execution_count": 47,
   "id": "7445aca9",
   "metadata": {},
   "outputs": [
    {
     "data": {
      "image/png": "[encoded data removed]",
      "text/plain": [
       "<Figure size 1080x360 with 1 Axes>"
      ]
     },
     "metadata": {
      "needs_background": "light"
     },
     "output_type": "display_data"
    }
   ],
   "source": [
    "plt.figure(figsize=(15,5))\n",
    "plt.plot(result.seasonal)\n",
    "plt.show()"
   ]
  },
  {
   "cell_type": "markdown",
   "id": "4e23bd7b",
   "metadata": {},
   "source": [
    "- Trend: dữ liệu có xu hướng đi ngang đến tháng 04-2016 thì bắt đầu xuất hiện xu hướng tăng mạnh\n",
    "- Seasonal: dữ liệu có tính seasonal khá rõ qua từng năm\n",
    "- Resid: lỗi tương đối ổn đỉnh ở mức 0.9 đến 1.1"
   ]
  },
  {
   "cell_type": "code",
   "execution_count": 48,
   "id": "cc6c61ea",
   "metadata": {},
   "outputs": [
    {
     "name": "stdout",
     "output_type": "stream",
     "text": [
      "Performing stepwise search to minimize aic\n",
      " ARIMA(2,1,2)(1,1,1)[52]             : AIC=inf, Time=40.43 sec\n",
      " ARIMA(0,1,0)(0,1,0)[52]             : AIC=3450.492, Time=0.40 sec\n",
      " ARIMA(1,1,0)(1,1,0)[52]             : AIC=3392.019, Time=4.46 sec\n",
      " ARIMA(0,1,1)(0,1,1)[52]             : AIC=3386.028, Time=5.50 sec\n",
      " ARIMA(0,1,1)(0,1,0)[52]             : AIC=3427.663, Time=0.38 sec\n",
      " ARIMA(0,1,1)(1,1,1)[52]             : AIC=3388.017, Time=9.71 sec\n",
      " ARIMA(0,1,1)(0,1,2)[52]             : AIC=3388.020, Time=11.36 sec\n",
      " ARIMA(0,1,1)(1,1,0)[52]             : AIC=3390.663, Time=5.16 sec\n",
      " ARIMA(0,1,1)(1,1,2)[52]             : AIC=inf, Time=36.83 sec\n",
      " ARIMA(0,1,0)(0,1,1)[52]             : AIC=3413.578, Time=4.54 sec\n",
      " ARIMA(1,1,1)(0,1,1)[52]             : AIC=3386.824, Time=8.83 sec\n",
      " ARIMA(0,1,2)(0,1,1)[52]             : AIC=inf, Time=7.62 sec\n",
      " ARIMA(1,1,0)(0,1,1)[52]             : AIC=3389.449, Time=5.58 sec\n",
      " ARIMA(1,1,2)(0,1,1)[52]             : AIC=inf, Time=14.64 sec\n",
      " ARIMA(0,1,1)(0,1,1)[52] intercept   : AIC=3388.255, Time=4.90 sec\n",
      "\n",
      "Best model:  ARIMA(0,1,1)(0,1,1)[52]          \n",
      "Total fit time: 160.400 seconds\n"
     ]
    }
   ],
   "source": [
    "stepwise_model = auto_arima(df_cali, start_p=2, start_q=2,\n",
    "                           max_p=5, max_q=5, m=52,\n",
    "                           start_P=1, seasonal=True,\n",
    "                           d=1, D=1, trace=True,\n",
    "                           error_action='ignore',  \n",
    "                           suppress_warnings=True, \n",
    "                           stepwise=True)"
   ]
  },
  {
   "cell_type": "code",
   "execution_count": 49,
   "id": "245cc3b2",
   "metadata": {},
   "outputs": [
    {
     "data": {
      "text/plain": [
       "(169, 1)"
      ]
     },
     "execution_count": 49,
     "metadata": {},
     "output_type": "execute_result"
    }
   ],
   "source": [
    "df_cali.shape"
   ]
  },
  {
   "cell_type": "code",
   "execution_count": 50,
   "id": "b247a279",
   "metadata": {},
   "outputs": [
    {
     "data": {
      "text/html": [
       "<div>\n",
       "<style scoped>\n",
       "    .dataframe tbody tr th:only-of-type {\n",
       "        vertical-align: middle;\n",
       "    }\n",
       "\n",
       "    .dataframe tbody tr th {\n",
       "        vertical-align: top;\n",
       "    }\n",
       "\n",
       "    .dataframe thead th {\n",
       "        text-align: right;\n",
       "    }\n",
       "</style>\n",
       "<table border=\"1\" class=\"dataframe\">\n",
       "  <thead>\n",
       "    <tr style=\"text-align: right;\">\n",
       "      <th></th>\n",
       "      <th>y</th>\n",
       "    </tr>\n",
       "    <tr>\n",
       "      <th>ds</th>\n",
       "      <th></th>\n",
       "    </tr>\n",
       "  </thead>\n",
       "  <tbody>\n",
       "    <tr>\n",
       "      <th>2017-07-02</th>\n",
       "      <td>8457334.54</td>\n",
       "    </tr>\n",
       "    <tr>\n",
       "      <th>2017-07-09</th>\n",
       "      <td>8319575.65</td>\n",
       "    </tr>\n",
       "    <tr>\n",
       "      <th>2017-07-16</th>\n",
       "      <td>8053733.62</td>\n",
       "    </tr>\n",
       "    <tr>\n",
       "      <th>2017-07-23</th>\n",
       "      <td>7575185.33</td>\n",
       "    </tr>\n",
       "    <tr>\n",
       "      <th>2017-07-30</th>\n",
       "      <td>7687981.32</td>\n",
       "    </tr>\n",
       "  </tbody>\n",
       "</table>\n",
       "</div>"
      ],
      "text/plain": [
       "                    y\n",
       "ds                   \n",
       "2017-07-02 8457334.54\n",
       "2017-07-09 8319575.65\n",
       "2017-07-16 8053733.62\n",
       "2017-07-23 7575185.33\n",
       "2017-07-30 7687981.32"
      ]
     },
     "execution_count": 50,
     "metadata": {},
     "output_type": "execute_result"
    }
   ],
   "source": [
    "#chia dữ liệu 80-20\n",
    "#tổng dữ liệu là 169 tuần => train 135 tuần test 34 tuần\n",
    "train = df_cali.drop(df_cali.index[-34:])\n",
    "train.tail()"
   ]
  },
  {
   "cell_type": "code",
   "execution_count": 51,
   "id": "057d8705",
   "metadata": {},
   "outputs": [
    {
     "data": {
      "text/html": [
       "<div>\n",
       "<style scoped>\n",
       "    .dataframe tbody tr th:only-of-type {\n",
       "        vertical-align: middle;\n",
       "    }\n",
       "\n",
       "    .dataframe tbody tr th {\n",
       "        vertical-align: top;\n",
       "    }\n",
       "\n",
       "    .dataframe thead th {\n",
       "        text-align: right;\n",
       "    }\n",
       "</style>\n",
       "<table border=\"1\" class=\"dataframe\">\n",
       "  <thead>\n",
       "    <tr style=\"text-align: right;\">\n",
       "      <th></th>\n",
       "      <th>y</th>\n",
       "    </tr>\n",
       "    <tr>\n",
       "      <th>ds</th>\n",
       "      <th></th>\n",
       "    </tr>\n",
       "  </thead>\n",
       "  <tbody>\n",
       "    <tr>\n",
       "      <th>2017-08-06</th>\n",
       "      <td>7692098.87</td>\n",
       "    </tr>\n",
       "    <tr>\n",
       "      <th>2017-08-13</th>\n",
       "      <td>7386584.17</td>\n",
       "    </tr>\n",
       "    <tr>\n",
       "      <th>2017-08-20</th>\n",
       "      <td>7420958.48</td>\n",
       "    </tr>\n",
       "    <tr>\n",
       "      <th>2017-08-27</th>\n",
       "      <td>7760824.33</td>\n",
       "    </tr>\n",
       "    <tr>\n",
       "      <th>2017-09-03</th>\n",
       "      <td>7670385.06</td>\n",
       "    </tr>\n",
       "  </tbody>\n",
       "</table>\n",
       "</div>"
      ],
      "text/plain": [
       "                    y\n",
       "ds                   \n",
       "2017-08-06 7692098.87\n",
       "2017-08-13 7386584.17\n",
       "2017-08-20 7420958.48\n",
       "2017-08-27 7760824.33\n",
       "2017-09-03 7670385.06"
      ]
     },
     "execution_count": 51,
     "metadata": {},
     "output_type": "execute_result"
    }
   ],
   "source": [
    "test = df_cali.drop(df_cali.index[0:-34])\n",
    "test.head()"
   ]
  },
  {
   "cell_type": "code",
   "execution_count": 52,
   "id": "084799a8",
   "metadata": {},
   "outputs": [
    {
     "data": {
      "text/plain": [
       "ARIMA(order=(0, 1, 1), scoring_args={}, seasonal_order=(0, 1, 1, 52),\n",
       "      suppress_warnings=True, with_intercept=False)"
      ]
     },
     "execution_count": 52,
     "metadata": {},
     "output_type": "execute_result"
    }
   ],
   "source": [
    "stepwise_model.fit(train)"
   ]
  },
  {
   "cell_type": "code",
   "execution_count": 53,
   "id": "cc32456c",
   "metadata": {},
   "outputs": [],
   "source": [
    "future_forecast = stepwise_model.predict(n_periods=len(test))"
   ]
  },
  {
   "cell_type": "code",
   "execution_count": 54,
   "id": "6f6b897d",
   "metadata": {},
   "outputs": [
    {
     "data": {
      "text/plain": [
       "606697.1242465448"
      ]
     },
     "execution_count": 54,
     "metadata": {},
     "output_type": "execute_result"
    }
   ],
   "source": [
    "mean_absolute_error(test['y'], future_forecast)"
   ]
  },
  {
   "cell_type": "code",
   "execution_count": 55,
   "id": "7e520c43",
   "metadata": {},
   "outputs": [
    {
     "data": {
      "text/plain": [
       "6388388.938126035"
      ]
     },
     "execution_count": 55,
     "metadata": {},
     "output_type": "execute_result"
    }
   ],
   "source": [
    "df_cali.y.mean()"
   ]
  },
  {
   "cell_type": "code",
   "execution_count": 56,
   "id": "1b087a68",
   "metadata": {},
   "outputs": [
    {
     "data": {
      "text/plain": [
       "6939240.406655883"
      ]
     },
     "execution_count": 56,
     "metadata": {},
     "output_type": "execute_result"
    }
   ],
   "source": [
    "test['y'].mean()"
   ]
  },
  {
   "cell_type": "code",
   "execution_count": 57,
   "id": "efb4dc14",
   "metadata": {},
   "outputs": [
    {
     "data": {
      "text/html": [
       "<div>\n",
       "<style scoped>\n",
       "    .dataframe tbody tr th:only-of-type {\n",
       "        vertical-align: middle;\n",
       "    }\n",
       "\n",
       "    .dataframe tbody tr th {\n",
       "        vertical-align: top;\n",
       "    }\n",
       "\n",
       "    .dataframe thead th {\n",
       "        text-align: right;\n",
       "    }\n",
       "</style>\n",
       "<table border=\"1\" class=\"dataframe\">\n",
       "  <thead>\n",
       "    <tr style=\"text-align: right;\">\n",
       "      <th></th>\n",
       "      <th>y</th>\n",
       "      <th>Prediction</th>\n",
       "    </tr>\n",
       "    <tr>\n",
       "      <th>ds</th>\n",
       "      <th></th>\n",
       "      <th></th>\n",
       "    </tr>\n",
       "  </thead>\n",
       "  <tbody>\n",
       "    <tr>\n",
       "      <th>2018-02-25</th>\n",
       "      <td>6952872.30</td>\n",
       "      <td>8205439.21</td>\n",
       "    </tr>\n",
       "    <tr>\n",
       "      <th>2018-03-04</th>\n",
       "      <td>7113948.46</td>\n",
       "      <td>8423631.60</td>\n",
       "    </tr>\n",
       "    <tr>\n",
       "      <th>2018-03-11</th>\n",
       "      <td>7202352.03</td>\n",
       "      <td>8550579.83</td>\n",
       "    </tr>\n",
       "    <tr>\n",
       "      <th>2018-03-18</th>\n",
       "      <td>6938125.79</td>\n",
       "      <td>8647439.94</td>\n",
       "    </tr>\n",
       "    <tr>\n",
       "      <th>2018-03-25</th>\n",
       "      <td>6954489.82</td>\n",
       "      <td>8613531.71</td>\n",
       "    </tr>\n",
       "  </tbody>\n",
       "</table>\n",
       "</div>"
      ],
      "text/plain": [
       "                    y  Prediction\n",
       "ds                               \n",
       "2018-02-25 6952872.30  8205439.21\n",
       "2018-03-04 7113948.46  8423631.60\n",
       "2018-03-11 7202352.03  8550579.83\n",
       "2018-03-18 6938125.79  8647439.94\n",
       "2018-03-25 6954489.82  8613531.71"
      ]
     },
     "execution_count": 57,
     "metadata": {},
     "output_type": "execute_result"
    }
   ],
   "source": [
    "future_forecast = pd.DataFrame(future_forecast, index = test.index, columns=['Prediction'])\n",
    "df_merge = test.join(future_forecast)\n",
    "df_merge.tail()"
   ]
  },
  {
   "cell_type": "code",
   "execution_count": 60,
   "id": "326cc590",
   "metadata": {},
   "outputs": [
    {
     "data": {
      "image/png": "[encoded data removed]",
      "text/plain": [
       "<Figure size 432x288 with 1 Axes>"
      ]
     },
     "metadata": {
      "needs_background": "light"
     },
     "output_type": "display_data"
    }
   ],
   "source": [
    "plt.plot(test, label='Actual')\n",
    "plt.plot(future_forecast, label='Prediction')\n",
    "plt.xticks(rotation='vertical')\n",
    "plt.legend()\n",
    "plt.show()"
   ]
  },
  {
   "cell_type": "code",
   "execution_count": 59,
   "id": "38cb3672",
   "metadata": {},
   "outputs": [
    {
     "data": {
      "image/png": "[encoded data removed]",
      "text/plain": [
       "<Figure size 864x432 with 1 Axes>"
      ]
     },
     "metadata": {
      "needs_background": "light"
     },
     "output_type": "display_data"
    }
   ],
   "source": [
    "plt.figure(figsize=(12,6))\n",
    "plt.plot(df_cali, label='Acutal')\n",
    "plt.plot(future_forecast, label='Prediction', color='red')\n",
    "plt.xticks(rotation='vertical')\n",
    "plt.legend()\n",
    "plt.show()"
   ]
  },
  {
   "cell_type": "markdown",
   "id": "19a1b1d2",
   "metadata": {},
   "source": [
    "ARIMA dự báo gần khớp được xu hướng tăng giảm của dữ liệu, giá trị dự đoán có sự chênh lệch khoảng 10% so với thực tế (dựa trên MAE và mean của test và mean của dữ liệu)\n"
   ]
  },
  {
   "cell_type": "markdown",
   "id": "d8a5c5be",
   "metadata": {},
   "source": [
    "#### ARIMA dự báo 1 năm kế tiếp"
   ]
  },
  {
   "cell_type": "code",
   "execution_count": 61,
   "id": "43912810",
   "metadata": {},
   "outputs": [
    {
     "data": {
      "text/plain": [
       "array([ 7884001.22708857,  7606885.50391165,  7410679.63325341,\n",
       "        7404354.00206767,  7732708.1393621 ,  7371582.81869625,\n",
       "        7216062.01536391,  7352410.781342  ,  7119707.97118383,\n",
       "        7460753.14245634,  7259618.658461  ,  6578245.07430403,\n",
       "        6637252.830519  ,  6672509.33323669,  6585425.21677495,\n",
       "        6439753.01291102,  6119372.74896779,  6179742.22190482,\n",
       "        6207029.88243503,  6026589.50074761,  6436821.45962513,\n",
       "        8244559.59440126,  8341141.6086616 ,  8159918.4919868 ,\n",
       "        8102907.75570941,  8588835.45686972,  9113222.53512391,\n",
       "        7860762.41504195,  8115072.41284345,  8205439.21309756,\n",
       "        8423631.59722314,  8550579.82659359,  8647439.9415499 ,\n",
       "        8613531.70794337,  8619165.17173369,  8751655.06616176,\n",
       "        8834981.93900008,  8632729.57401737,  9064687.26184902,\n",
       "        9380247.50424208,  8798855.07608842,  8919290.5346349 ,\n",
       "        9323480.22671516,  9312863.09384304,  9165507.77751835,\n",
       "        9378620.7025754 ,  9316217.34700463, 10039057.70346224,\n",
       "        9589452.08136914,  9433936.60524444,  9331033.3753418 ,\n",
       "        9361038.39978466,  9525866.11286089,  9248750.38968397,\n",
       "        9052544.51902572,  9046218.88783999,  9374573.02513442,\n",
       "        9013447.70446857,  8857926.90113623,  8994275.66711432,\n",
       "        8761572.85695615,  9102618.02822866,  8901483.54423332,\n",
       "        8220109.96007635,  8279117.71629132,  8314374.21900901,\n",
       "        8227290.10254727,  8081617.89868335,  7761237.63474011,\n",
       "        7821607.10767714,  7848894.76820735,  7668454.38651993,\n",
       "        8078686.34539745,  9886424.48017358,  9983006.49443392,\n",
       "        9801783.37775912,  9744772.64148173, 10230700.34264204,\n",
       "       10755087.42089623,  9502627.30081427,  9756937.29861577,\n",
       "        9847304.09886988, 10065496.48299547, 10192444.71236591,\n",
       "       10289304.82732222, 10255396.59371569])"
      ]
     },
     "execution_count": 61,
     "metadata": {},
     "output_type": "execute_result"
    }
   ],
   "source": [
    "#next 52 weeks + 34 weeks test\n",
    "future_forecast2 = stepwise_model.predict(n_periods=len(test)+52) \n",
    "future_forecast2"
   ]
  },
  {
   "cell_type": "code",
   "execution_count": 62,
   "id": "e9d0dbd4",
   "metadata": {},
   "outputs": [
    {
     "data": {
      "text/plain": [
       "array([ 8619165.17173369,  8751655.06616176,  8834981.93900008,\n",
       "        8632729.57401737,  9064687.26184902,  9380247.50424208,\n",
       "        8798855.07608842,  8919290.5346349 ,  9323480.22671516,\n",
       "        9312863.09384304,  9165507.77751835,  9378620.7025754 ,\n",
       "        9316217.34700463, 10039057.70346224,  9589452.08136914,\n",
       "        9433936.60524444,  9331033.3753418 ,  9361038.39978466,\n",
       "        9525866.11286089,  9248750.38968397,  9052544.51902572,\n",
       "        9046218.88783999,  9374573.02513442,  9013447.70446857,\n",
       "        8857926.90113623,  8994275.66711432,  8761572.85695615,\n",
       "        9102618.02822866,  8901483.54423332,  8220109.96007635,\n",
       "        8279117.71629132,  8314374.21900901,  8227290.10254727,\n",
       "        8081617.89868335,  7761237.63474011,  7821607.10767714,\n",
       "        7848894.76820735,  7668454.38651993,  8078686.34539745,\n",
       "        9886424.48017358,  9983006.49443392,  9801783.37775912,\n",
       "        9744772.64148173, 10230700.34264204, 10755087.42089623,\n",
       "        9502627.30081427,  9756937.29861577,  9847304.09886988,\n",
       "       10065496.48299547, 10192444.71236591, 10289304.82732222,\n",
       "       10255396.59371569])"
      ]
     },
     "execution_count": 62,
     "metadata": {},
     "output_type": "execute_result"
    }
   ],
   "source": [
    "#next 52 weeks\n",
    "future_forecast2[len(test):]"
   ]
  },
  {
   "cell_type": "code",
   "execution_count": 63,
   "id": "74c51948",
   "metadata": {},
   "outputs": [],
   "source": [
    "import datetime\n",
    "tail_week = datetime.datetime.strptime(\"2018-03-25\",\"%Y-%m-%d\")#ngày cuối cùng của dữ liệu\n",
    "start_week = tail_week + datetime.timedelta(weeks=1) #tuần kế tiếp\n",
    "end_week = start_week + datetime.timedelta(weeks=51) #51 tuần kế tiếp\n",
    "weeks = pd.date_range(start_week,end_week, freq='W').strftime(\"%Y-%m-%d\").tolist() "
   ]
  },
  {
   "cell_type": "code",
   "execution_count": 64,
   "id": "f6b0e20f",
   "metadata": {},
   "outputs": [
    {
     "name": "stdout",
     "output_type": "stream",
     "text": [
      "<class 'pandas.core.frame.DataFrame'>\n",
      "RangeIndex: 52 entries, 0 to 51\n",
      "Data columns (total 2 columns):\n",
      " #   Column  Non-Null Count  Dtype  \n",
      "---  ------  --------------  -----  \n",
      " 0   ds      52 non-null     object \n",
      " 1   y       52 non-null     float64\n",
      "dtypes: float64(1), object(1)\n",
      "memory usage: 960.0+ bytes\n"
     ]
    }
   ],
   "source": [
    "new_predict = pd.DataFrame({'ds' : weeks,\n",
    "                            'y': future_forecast2[len(test):]})\n",
    "new_predict.info()"
   ]
  },
  {
   "cell_type": "code",
   "execution_count": 65,
   "id": "7468a5d0",
   "metadata": {},
   "outputs": [],
   "source": [
    "new_predict['ds'] = pd.to_datetime(new_predict['ds'])\n",
    "new_predict.set_index('ds', inplace=True)"
   ]
  },
  {
   "cell_type": "code",
   "execution_count": 66,
   "id": "409174f4",
   "metadata": {},
   "outputs": [
    {
     "data": {
      "image/png": "[encoded data removed]",
      "text/plain": [
       "<Figure size 864x432 with 1 Axes>"
      ]
     },
     "metadata": {
      "needs_background": "light"
     },
     "output_type": "display_data"
    }
   ],
   "source": [
    "plt.figure(figsize=(12,6))\n",
    "plt.plot(df_cali, label='Acutal')\n",
    "plt.plot(future_forecast, label='Prediction', color='red')\n",
    "plt.plot(new_predict, label='Next 26weeks', color='orange')\n",
    "plt.xticks(rotation='vertical')\n",
    "plt.legend()\n",
    "plt.show()"
   ]
  },
  {
   "cell_type": "markdown",
   "id": "ad46f3b2",
   "metadata": {},
   "source": [
    "chúng ta sẽ dùng biểu đồ này và MAE để so sánh với Facebook Prophet xem mô hình nào phù hợp hơn"
   ]
  },
  {
   "cell_type": "markdown",
   "id": "7104e454",
   "metadata": {},
   "source": [
    "#### Dùng Facebook Prophet"
   ]
  },
  {
   "cell_type": "code",
   "execution_count": 67,
   "id": "4e438480",
   "metadata": {},
   "outputs": [
    {
     "data": {
      "text/html": [
       "<div>\n",
       "<style scoped>\n",
       "    .dataframe tbody tr th:only-of-type {\n",
       "        vertical-align: middle;\n",
       "    }\n",
       "\n",
       "    .dataframe tbody tr th {\n",
       "        vertical-align: top;\n",
       "    }\n",
       "\n",
       "    .dataframe thead th {\n",
       "        text-align: right;\n",
       "    }\n",
       "</style>\n",
       "<table border=\"1\" class=\"dataframe\">\n",
       "  <thead>\n",
       "    <tr style=\"text-align: right;\">\n",
       "      <th></th>\n",
       "      <th>y</th>\n",
       "    </tr>\n",
       "    <tr>\n",
       "      <th>ds</th>\n",
       "      <th></th>\n",
       "    </tr>\n",
       "  </thead>\n",
       "  <tbody>\n",
       "    <tr>\n",
       "      <th>2015-01-04</th>\n",
       "      <td>5372921.46</td>\n",
       "    </tr>\n",
       "    <tr>\n",
       "      <th>2015-01-11</th>\n",
       "      <td>5542937.75</td>\n",
       "    </tr>\n",
       "    <tr>\n",
       "      <th>2015-01-18</th>\n",
       "      <td>5682333.57</td>\n",
       "    </tr>\n",
       "    <tr>\n",
       "      <th>2015-01-25</th>\n",
       "      <td>5225677.32</td>\n",
       "    </tr>\n",
       "    <tr>\n",
       "      <th>2015-02-01</th>\n",
       "      <td>7677353.57</td>\n",
       "    </tr>\n",
       "  </tbody>\n",
       "</table>\n",
       "</div>"
      ],
      "text/plain": [
       "                    y\n",
       "ds                   \n",
       "2015-01-04 5372921.46\n",
       "2015-01-11 5542937.75\n",
       "2015-01-18 5682333.57\n",
       "2015-01-25 5225677.32\n",
       "2015-02-01 7677353.57"
      ]
     },
     "execution_count": 67,
     "metadata": {},
     "output_type": "execute_result"
    }
   ],
   "source": [
    "df_cali.head()"
   ]
  },
  {
   "cell_type": "code",
   "execution_count": 68,
   "id": "5c6dcc59",
   "metadata": {},
   "outputs": [],
   "source": [
    "df_cali.reset_index(inplace=True)"
   ]
  },
  {
   "cell_type": "code",
   "execution_count": 69,
   "id": "9cb87cce",
   "metadata": {},
   "outputs": [
    {
     "data": {
      "text/html": [
       "<div>\n",
       "<style scoped>\n",
       "    .dataframe tbody tr th:only-of-type {\n",
       "        vertical-align: middle;\n",
       "    }\n",
       "\n",
       "    .dataframe tbody tr th {\n",
       "        vertical-align: top;\n",
       "    }\n",
       "\n",
       "    .dataframe thead th {\n",
       "        text-align: right;\n",
       "    }\n",
       "</style>\n",
       "<table border=\"1\" class=\"dataframe\">\n",
       "  <thead>\n",
       "    <tr style=\"text-align: right;\">\n",
       "      <th></th>\n",
       "      <th>ds</th>\n",
       "      <th>y</th>\n",
       "    </tr>\n",
       "  </thead>\n",
       "  <tbody>\n",
       "    <tr>\n",
       "      <th>0</th>\n",
       "      <td>2015-01-04</td>\n",
       "      <td>5372921.46</td>\n",
       "    </tr>\n",
       "    <tr>\n",
       "      <th>1</th>\n",
       "      <td>2015-01-11</td>\n",
       "      <td>5542937.75</td>\n",
       "    </tr>\n",
       "    <tr>\n",
       "      <th>2</th>\n",
       "      <td>2015-01-18</td>\n",
       "      <td>5682333.57</td>\n",
       "    </tr>\n",
       "    <tr>\n",
       "      <th>3</th>\n",
       "      <td>2015-01-25</td>\n",
       "      <td>5225677.32</td>\n",
       "    </tr>\n",
       "    <tr>\n",
       "      <th>4</th>\n",
       "      <td>2015-02-01</td>\n",
       "      <td>7677353.57</td>\n",
       "    </tr>\n",
       "  </tbody>\n",
       "</table>\n",
       "</div>"
      ],
      "text/plain": [
       "          ds          y\n",
       "0 2015-01-04 5372921.46\n",
       "1 2015-01-11 5542937.75\n",
       "2 2015-01-18 5682333.57\n",
       "3 2015-01-25 5225677.32\n",
       "4 2015-02-01 7677353.57"
      ]
     },
     "execution_count": 69,
     "metadata": {},
     "output_type": "execute_result"
    }
   ],
   "source": [
    "df_cali.head()"
   ]
  },
  {
   "cell_type": "code",
   "execution_count": 70,
   "id": "53683071",
   "metadata": {},
   "outputs": [
    {
     "data": {
      "text/html": [
       "<div>\n",
       "<style scoped>\n",
       "    .dataframe tbody tr th:only-of-type {\n",
       "        vertical-align: middle;\n",
       "    }\n",
       "\n",
       "    .dataframe tbody tr th {\n",
       "        vertical-align: top;\n",
       "    }\n",
       "\n",
       "    .dataframe thead th {\n",
       "        text-align: right;\n",
       "    }\n",
       "</style>\n",
       "<table border=\"1\" class=\"dataframe\">\n",
       "  <thead>\n",
       "    <tr style=\"text-align: right;\">\n",
       "      <th></th>\n",
       "      <th>ds</th>\n",
       "      <th>y</th>\n",
       "    </tr>\n",
       "  </thead>\n",
       "  <tbody>\n",
       "    <tr>\n",
       "      <th>130</th>\n",
       "      <td>2017-07-02</td>\n",
       "      <td>8457334.54</td>\n",
       "    </tr>\n",
       "    <tr>\n",
       "      <th>131</th>\n",
       "      <td>2017-07-09</td>\n",
       "      <td>8319575.65</td>\n",
       "    </tr>\n",
       "    <tr>\n",
       "      <th>132</th>\n",
       "      <td>2017-07-16</td>\n",
       "      <td>8053733.62</td>\n",
       "    </tr>\n",
       "    <tr>\n",
       "      <th>133</th>\n",
       "      <td>2017-07-23</td>\n",
       "      <td>7575185.33</td>\n",
       "    </tr>\n",
       "    <tr>\n",
       "      <th>134</th>\n",
       "      <td>2017-07-30</td>\n",
       "      <td>7687981.32</td>\n",
       "    </tr>\n",
       "  </tbody>\n",
       "</table>\n",
       "</div>"
      ],
      "text/plain": [
       "            ds          y\n",
       "130 2017-07-02 8457334.54\n",
       "131 2017-07-09 8319575.65\n",
       "132 2017-07-16 8053733.62\n",
       "133 2017-07-23 7575185.33\n",
       "134 2017-07-30 7687981.32"
      ]
     },
     "execution_count": 70,
     "metadata": {},
     "output_type": "execute_result"
    }
   ],
   "source": [
    "#chia dữ liệu 80-20\n",
    "#tổng dữ liệu là 169 tuần => train 135 tuần test 34 tuần\n",
    "train = df_cali.drop(df_cali.index[-34:])\n",
    "train.tail()"
   ]
  },
  {
   "cell_type": "code",
   "execution_count": 71,
   "id": "4e0ad29f",
   "metadata": {},
   "outputs": [
    {
     "data": {
      "text/html": [
       "<div>\n",
       "<style scoped>\n",
       "    .dataframe tbody tr th:only-of-type {\n",
       "        vertical-align: middle;\n",
       "    }\n",
       "\n",
       "    .dataframe tbody tr th {\n",
       "        vertical-align: top;\n",
       "    }\n",
       "\n",
       "    .dataframe thead th {\n",
       "        text-align: right;\n",
       "    }\n",
       "</style>\n",
       "<table border=\"1\" class=\"dataframe\">\n",
       "  <thead>\n",
       "    <tr style=\"text-align: right;\">\n",
       "      <th></th>\n",
       "      <th>ds</th>\n",
       "      <th>y</th>\n",
       "    </tr>\n",
       "  </thead>\n",
       "  <tbody>\n",
       "    <tr>\n",
       "      <th>135</th>\n",
       "      <td>2017-08-06</td>\n",
       "      <td>7692098.87</td>\n",
       "    </tr>\n",
       "    <tr>\n",
       "      <th>136</th>\n",
       "      <td>2017-08-13</td>\n",
       "      <td>7386584.17</td>\n",
       "    </tr>\n",
       "    <tr>\n",
       "      <th>137</th>\n",
       "      <td>2017-08-20</td>\n",
       "      <td>7420958.48</td>\n",
       "    </tr>\n",
       "    <tr>\n",
       "      <th>138</th>\n",
       "      <td>2017-08-27</td>\n",
       "      <td>7760824.33</td>\n",
       "    </tr>\n",
       "    <tr>\n",
       "      <th>139</th>\n",
       "      <td>2017-09-03</td>\n",
       "      <td>7670385.06</td>\n",
       "    </tr>\n",
       "  </tbody>\n",
       "</table>\n",
       "</div>"
      ],
      "text/plain": [
       "            ds          y\n",
       "135 2017-08-06 7692098.87\n",
       "136 2017-08-13 7386584.17\n",
       "137 2017-08-20 7420958.48\n",
       "138 2017-08-27 7760824.33\n",
       "139 2017-09-03 7670385.06"
      ]
     },
     "execution_count": 71,
     "metadata": {},
     "output_type": "execute_result"
    }
   ],
   "source": [
    "test = df_cali.drop(df_cali.index[0:-34])\n",
    "test.head()"
   ]
  },
  {
   "cell_type": "code",
   "execution_count": 72,
   "id": "1d5559e0",
   "metadata": {},
   "outputs": [],
   "source": [
    "model = Prophet(yearly_seasonality=True, daily_seasonality=False, weekly_seasonality=True)"
   ]
  },
  {
   "cell_type": "code",
   "execution_count": 73,
   "id": "47fa7987",
   "metadata": {},
   "outputs": [
    {
     "data": {
      "text/plain": [
       "<fbprophet.forecaster.Prophet at 0x25f208d2a08>"
      ]
     },
     "execution_count": 73,
     "metadata": {},
     "output_type": "execute_result"
    }
   ],
   "source": [
    "model.fit(train)"
   ]
  },
  {
   "cell_type": "code",
   "execution_count": 74,
   "id": "e618b00e",
   "metadata": {},
   "outputs": [],
   "source": [
    "#34 tuần test và 17 tuần dự đoán\n",
    "import datetime\n",
    "start_week = datetime.datetime.strptime(\"2017-08-06\",\"%Y-%m-%d\")\n",
    "end_week = start_week + datetime.timedelta(weeks=51)\n",
    "weeks = pd.date_range(start_week,end_week, freq='W').strftime(\"%Y-%m-%d\").tolist()\n",
    "future = pd.DataFrame(weeks)\n",
    "future.columns = ['ds']\n",
    "future['ds'] = pd.to_datetime(future['ds'])"
   ]
  },
  {
   "cell_type": "code",
   "execution_count": 75,
   "id": "30e1e111",
   "metadata": {},
   "outputs": [
    {
     "data": {
      "text/html": [
       "<div>\n",
       "<style scoped>\n",
       "    .dataframe tbody tr th:only-of-type {\n",
       "        vertical-align: middle;\n",
       "    }\n",
       "\n",
       "    .dataframe tbody tr th {\n",
       "        vertical-align: top;\n",
       "    }\n",
       "\n",
       "    .dataframe thead th {\n",
       "        text-align: right;\n",
       "    }\n",
       "</style>\n",
       "<table border=\"1\" class=\"dataframe\">\n",
       "  <thead>\n",
       "    <tr style=\"text-align: right;\">\n",
       "      <th></th>\n",
       "      <th>ds</th>\n",
       "    </tr>\n",
       "  </thead>\n",
       "  <tbody>\n",
       "    <tr>\n",
       "      <th>47</th>\n",
       "      <td>2018-07-01</td>\n",
       "    </tr>\n",
       "    <tr>\n",
       "      <th>48</th>\n",
       "      <td>2018-07-08</td>\n",
       "    </tr>\n",
       "    <tr>\n",
       "      <th>49</th>\n",
       "      <td>2018-07-15</td>\n",
       "    </tr>\n",
       "    <tr>\n",
       "      <th>50</th>\n",
       "      <td>2018-07-22</td>\n",
       "    </tr>\n",
       "    <tr>\n",
       "      <th>51</th>\n",
       "      <td>2018-07-29</td>\n",
       "    </tr>\n",
       "  </tbody>\n",
       "</table>\n",
       "</div>"
      ],
      "text/plain": [
       "           ds\n",
       "47 2018-07-01\n",
       "48 2018-07-08\n",
       "49 2018-07-15\n",
       "50 2018-07-22\n",
       "51 2018-07-29"
      ]
     },
     "execution_count": 75,
     "metadata": {},
     "output_type": "execute_result"
    }
   ],
   "source": [
    "future.tail()"
   ]
  },
  {
   "cell_type": "code",
   "execution_count": 76,
   "id": "6267c644",
   "metadata": {},
   "outputs": [],
   "source": [
    "forecast = model.predict(future)"
   ]
  },
  {
   "cell_type": "code",
   "execution_count": 77,
   "id": "b0bc2073",
   "metadata": {},
   "outputs": [
    {
     "data": {
      "text/html": [
       "<div>\n",
       "<style scoped>\n",
       "    .dataframe tbody tr th:only-of-type {\n",
       "        vertical-align: middle;\n",
       "    }\n",
       "\n",
       "    .dataframe tbody tr th {\n",
       "        vertical-align: top;\n",
       "    }\n",
       "\n",
       "    .dataframe thead th {\n",
       "        text-align: right;\n",
       "    }\n",
       "</style>\n",
       "<table border=\"1\" class=\"dataframe\">\n",
       "  <thead>\n",
       "    <tr style=\"text-align: right;\">\n",
       "      <th></th>\n",
       "      <th>ds</th>\n",
       "      <th>yhat</th>\n",
       "    </tr>\n",
       "  </thead>\n",
       "  <tbody>\n",
       "    <tr>\n",
       "      <th>0</th>\n",
       "      <td>2017-08-06</td>\n",
       "      <td>7909682.72</td>\n",
       "    </tr>\n",
       "    <tr>\n",
       "      <th>1</th>\n",
       "      <td>2017-08-13</td>\n",
       "      <td>7882930.10</td>\n",
       "    </tr>\n",
       "    <tr>\n",
       "      <th>2</th>\n",
       "      <td>2017-08-20</td>\n",
       "      <td>7791528.87</td>\n",
       "    </tr>\n",
       "    <tr>\n",
       "      <th>3</th>\n",
       "      <td>2017-08-27</td>\n",
       "      <td>7705468.62</td>\n",
       "    </tr>\n",
       "    <tr>\n",
       "      <th>4</th>\n",
       "      <td>2017-09-03</td>\n",
       "      <td>7653637.35</td>\n",
       "    </tr>\n",
       "  </tbody>\n",
       "</table>\n",
       "</div>"
      ],
      "text/plain": [
       "          ds       yhat\n",
       "0 2017-08-06 7909682.72\n",
       "1 2017-08-13 7882930.10\n",
       "2 2017-08-20 7791528.87\n",
       "3 2017-08-27 7705468.62\n",
       "4 2017-09-03 7653637.35"
      ]
     },
     "execution_count": 77,
     "metadata": {},
     "output_type": "execute_result"
    }
   ],
   "source": [
    "forecast[['ds','yhat']].head()"
   ]
  },
  {
   "cell_type": "code",
   "execution_count": 78,
   "id": "afdb3cd8",
   "metadata": {},
   "outputs": [
    {
     "data": {
      "text/html": [
       "<div>\n",
       "<style scoped>\n",
       "    .dataframe tbody tr th:only-of-type {\n",
       "        vertical-align: middle;\n",
       "    }\n",
       "\n",
       "    .dataframe tbody tr th {\n",
       "        vertical-align: top;\n",
       "    }\n",
       "\n",
       "    .dataframe thead th {\n",
       "        text-align: right;\n",
       "    }\n",
       "</style>\n",
       "<table border=\"1\" class=\"dataframe\">\n",
       "  <thead>\n",
       "    <tr style=\"text-align: right;\">\n",
       "      <th></th>\n",
       "      <th>ds</th>\n",
       "      <th>yhat</th>\n",
       "    </tr>\n",
       "  </thead>\n",
       "  <tbody>\n",
       "    <tr>\n",
       "      <th>47</th>\n",
       "      <td>2018-07-01</td>\n",
       "      <td>9111535.32</td>\n",
       "    </tr>\n",
       "    <tr>\n",
       "      <th>48</th>\n",
       "      <td>2018-07-08</td>\n",
       "      <td>9095656.58</td>\n",
       "    </tr>\n",
       "    <tr>\n",
       "      <th>49</th>\n",
       "      <td>2018-07-15</td>\n",
       "      <td>8947145.08</td>\n",
       "    </tr>\n",
       "    <tr>\n",
       "      <th>50</th>\n",
       "      <td>2018-07-22</td>\n",
       "      <td>8820934.66</td>\n",
       "    </tr>\n",
       "    <tr>\n",
       "      <th>51</th>\n",
       "      <td>2018-07-29</td>\n",
       "      <td>8805563.05</td>\n",
       "    </tr>\n",
       "  </tbody>\n",
       "</table>\n",
       "</div>"
      ],
      "text/plain": [
       "           ds       yhat\n",
       "47 2018-07-01 9111535.32\n",
       "48 2018-07-08 9095656.58\n",
       "49 2018-07-15 8947145.08\n",
       "50 2018-07-22 8820934.66\n",
       "51 2018-07-29 8805563.05"
      ]
     },
     "execution_count": 78,
     "metadata": {},
     "output_type": "execute_result"
    }
   ],
   "source": [
    "forecast[['ds','yhat']].tail()"
   ]
  },
  {
   "cell_type": "code",
   "execution_count": 79,
   "id": "defda52e",
   "metadata": {},
   "outputs": [
    {
     "data": {
      "text/plain": [
       "6388388.938126035"
      ]
     },
     "execution_count": 79,
     "metadata": {},
     "output_type": "execute_result"
    }
   ],
   "source": [
    "df_cali.y.mean()"
   ]
  },
  {
   "cell_type": "code",
   "execution_count": 80,
   "id": "f007916f",
   "metadata": {},
   "outputs": [
    {
     "data": {
      "text/plain": [
       "6939240.406655883"
      ]
     },
     "execution_count": 80,
     "metadata": {},
     "output_type": "execute_result"
    }
   ],
   "source": [
    "test.y.mean()"
   ]
  },
  {
   "cell_type": "code",
   "execution_count": 81,
   "id": "9ad9dbf4",
   "metadata": {},
   "outputs": [
    {
     "name": "stdout",
     "output_type": "stream",
     "text": [
      "MAE: 367369.810\n"
     ]
    }
   ],
   "source": [
    "y_test = test['y'].values\n",
    "y_pred = forecast['yhat'].values[:34]\n",
    "mae_p = mean_absolute_error(y_test, y_pred)\n",
    "print('MAE: %.3f' % mae_p) "
   ]
  },
  {
   "cell_type": "code",
   "execution_count": 82,
   "id": "04b96eee",
   "metadata": {},
   "outputs": [
    {
     "name": "stdout",
     "output_type": "stream",
     "text": [
      "RMSE: 463882.270\n"
     ]
    }
   ],
   "source": [
    "rmse_p = sqrt(mean_squared_error(y_test, y_pred))\n",
    "print('RMSE: %.3f' % rmse_p)"
   ]
  },
  {
   "cell_type": "code",
   "execution_count": 83,
   "id": "0e0846a0",
   "metadata": {},
   "outputs": [],
   "source": [
    "y_test_value = pd.DataFrame(y_test, index = pd.to_datetime(test['ds']),columns=['Actual'])\n",
    "y_pred_value = pd.DataFrame(y_pred, index = pd.to_datetime(test['ds']),columns=['Prediction'])"
   ]
  },
  {
   "cell_type": "code",
   "execution_count": 84,
   "id": "bef27385",
   "metadata": {},
   "outputs": [
    {
     "data": {
      "image/png": "[encoded data removed]",
      "text/plain": [
       "<Figure size 864x432 with 1 Axes>"
      ]
     },
     "metadata": {
      "needs_background": "light"
     },
     "output_type": "display_data"
    }
   ],
   "source": [
    "# Visulaize the result\n",
    "plt.figure(figsize=(12,6))\n",
    "plt.plot(y_test_value, label='Real AvgPrice')\n",
    "plt.plot(y_pred_value, label='Prediction AvgPrice')\n",
    "plt.xticks(rotation='vertical')\n",
    "plt.legend()\n",
    "plt.show()"
   ]
  },
  {
   "cell_type": "code",
   "execution_count": 85,
   "id": "12701acc",
   "metadata": {},
   "outputs": [
    {
     "data": {
      "image/png": "[encoded data removed]",
      "text/plain": [
       "<Figure size 720x432 with 1 Axes>"
      ]
     },
     "metadata": {},
     "output_type": "display_data"
    }
   ],
   "source": [
    "fig = model.plot(forecast)\n",
    "fig.show()\n",
    "a = add_changepoints_to_plot(fig.gca(), model, forecast)"
   ]
  },
  {
   "cell_type": "markdown",
   "id": "c5bc10e5",
   "metadata": {},
   "source": [
    "# Kết luận:\n",
    "\n",
    "- MAE của ARIMA khoảng 10% so với mean của dữ liệu, MAE của FB Prophet khoảng 6% so với mean của dữ liệu, => có thể cân nhắc dùng được 2 thuật toán trên cho bộ dữ liệu này\n",
    "- ARIMA tốn rất nhiều thời gian hơn so với FB Prophet vì phải chạy auto_arima để tìm ra bộ thông số phù hợp\n",
    "- Do sự chênh lệch về MAE , và thời gian thực hiện của FB Prophet rất nhanh nên ta chọn FB Prophet để đự đoán giá theo seasonal"
   ]
  },
  {
   "cell_type": "markdown",
   "id": "8624d877",
   "metadata": {},
   "source": [
    "### Fb Prophet Dự đoán 1 năm kế tiếp"
   ]
  },
  {
   "cell_type": "code",
   "execution_count": 86,
   "id": "a49777d3",
   "metadata": {},
   "outputs": [
    {
     "data": {
      "text/html": [
       "<div>\n",
       "<style scoped>\n",
       "    .dataframe tbody tr th:only-of-type {\n",
       "        vertical-align: middle;\n",
       "    }\n",
       "\n",
       "    .dataframe tbody tr th {\n",
       "        vertical-align: top;\n",
       "    }\n",
       "\n",
       "    .dataframe thead th {\n",
       "        text-align: right;\n",
       "    }\n",
       "</style>\n",
       "<table border=\"1\" class=\"dataframe\">\n",
       "  <thead>\n",
       "    <tr style=\"text-align: right;\">\n",
       "      <th></th>\n",
       "      <th>ds</th>\n",
       "      <th>y</th>\n",
       "    </tr>\n",
       "  </thead>\n",
       "  <tbody>\n",
       "    <tr>\n",
       "      <th>0</th>\n",
       "      <td>2015-01-04</td>\n",
       "      <td>5372921.46</td>\n",
       "    </tr>\n",
       "    <tr>\n",
       "      <th>1</th>\n",
       "      <td>2015-01-11</td>\n",
       "      <td>5542937.75</td>\n",
       "    </tr>\n",
       "    <tr>\n",
       "      <th>2</th>\n",
       "      <td>2015-01-18</td>\n",
       "      <td>5682333.57</td>\n",
       "    </tr>\n",
       "    <tr>\n",
       "      <th>3</th>\n",
       "      <td>2015-01-25</td>\n",
       "      <td>5225677.32</td>\n",
       "    </tr>\n",
       "    <tr>\n",
       "      <th>4</th>\n",
       "      <td>2015-02-01</td>\n",
       "      <td>7677353.57</td>\n",
       "    </tr>\n",
       "  </tbody>\n",
       "</table>\n",
       "</div>"
      ],
      "text/plain": [
       "          ds          y\n",
       "0 2015-01-04 5372921.46\n",
       "1 2015-01-11 5542937.75\n",
       "2 2015-01-18 5682333.57\n",
       "3 2015-01-25 5225677.32\n",
       "4 2015-02-01 7677353.57"
      ]
     },
     "execution_count": 86,
     "metadata": {},
     "output_type": "execute_result"
    }
   ],
   "source": [
    "df_cali.head()"
   ]
  },
  {
   "cell_type": "code",
   "execution_count": 91,
   "id": "9e27c460",
   "metadata": {},
   "outputs": [],
   "source": [
    "m = Prophet(yearly_seasonality=True, daily_seasonality=False, weekly_seasonality=True)\n",
    "m.fit(df_cali)\n",
    "future = m.make_future_dataframe(periods=52*1, freq='W')"
   ]
  },
  {
   "cell_type": "code",
   "execution_count": 92,
   "id": "d37609b4",
   "metadata": {},
   "outputs": [],
   "source": [
    "forecast = m.predict(future)"
   ]
  },
  {
   "cell_type": "code",
   "execution_count": 93,
   "id": "c8e996b2",
   "metadata": {},
   "outputs": [
    {
     "data": {
      "image/png": "[encoded data removed]",
      "text/plain": [
       "<Figure size 720x432 with 1 Axes>"
      ]
     },
     "metadata": {},
     "output_type": "display_data"
    }
   ],
   "source": [
    "fig = m.plot(forecast)\n",
    "fig.show()\n",
    "a = add_changepoints_to_plot(fig.gca(), m, forecast)"
   ]
  },
  {
   "cell_type": "markdown",
   "id": "16f51b83",
   "metadata": {},
   "source": [
    "<b style=\"color:blue\"> So sánh với ARIMA khi dự báo 1 năm kế tiếp, ta thấy FB Prophet cho kết quả tốt hơn với MAE nhỏ hơn và xu hướng của mô hình dự đoán bám khá sát với dữ liệu lịch sử.</b>\n",
    "\n",
    "<b style=\"color:blue\"> Chúng ta nhận thấy có xu hướng tăng cho doanh thu trung bình của loại bơ conventional tại California trong 1 năm tới => có thể mở rộng kinh doanh bơ conventional tại California.</b>\n"
   ]
  },
  {
   "cell_type": "code",
   "execution_count": null,
   "id": "07c6b9c7",
   "metadata": {},
   "outputs": [],
   "source": []
  }
 ],
 "metadata": {
  "kernelspec": {
   "display_name": "Python 3 (ipykernel)",
   "language": "python",
   "name": "python3"
  },
  "language_info": {
   "codemirror_mode": {
    "name": "ipython",
    "version": 3
   },
   "file_extension": ".py",
   "mimetype": "text/x-python",
   "name": "python",
   "nbconvert_exporter": "python",
   "pygments_lexer": "ipython3",
   "version": "3.7.9"
  }
 },
 "nbformat": 4,
 "nbformat_minor": 5
}
